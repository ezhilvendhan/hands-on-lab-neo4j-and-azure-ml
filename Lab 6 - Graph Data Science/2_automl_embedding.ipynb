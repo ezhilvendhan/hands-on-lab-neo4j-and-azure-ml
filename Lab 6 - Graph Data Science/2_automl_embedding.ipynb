{
 "cells": [
  {
   "cell_type": "markdown",
   "metadata": {
    "id": "4rQ6G65n6OxV"
   },
   "source": [
    "# Automated ML Embedding\n",
    "In this notebook, we'll use Azure ML to train a model using our graph embedding as an additional feature."
   ]
  },
  {
   "cell_type": "code",
   "execution_count": 1,
   "metadata": {},
   "outputs": [
    {
     "name": "stdout",
     "output_type": "stream",
     "text": [
      "Requirement already satisfied: graphdatascience in /anaconda/envs/azureml_py38/lib/python3.8/site-packages (1.4)\n",
      "Requirement already satisfied: multimethod<2.0,>=1.0 in /anaconda/envs/azureml_py38/lib/python3.8/site-packages (from graphdatascience) (1.8)\n",
      "Requirement already satisfied: pandas<2.0,>=1.0 in /anaconda/envs/azureml_py38/lib/python3.8/site-packages (from graphdatascience) (1.1.5)\n",
      "Requirement already satisfied: pyarrow<10.0,>=4.0 in /anaconda/envs/azureml_py38/lib/python3.8/site-packages (from graphdatascience) (6.0.0)\n",
      "Requirement already satisfied: neo4j<6.0,>=4.4.2 in /anaconda/envs/azureml_py38/lib/python3.8/site-packages (from graphdatascience) (5.1.0)\n",
      "Requirement already satisfied: tqdm<5.0,>=4.0 in /anaconda/envs/azureml_py38/lib/python3.8/site-packages (from graphdatascience) (4.64.0)\n",
      "Requirement already satisfied: python-dateutil>=2.7.3 in /anaconda/envs/azureml_py38/lib/python3.8/site-packages (from pandas<2.0,>=1.0->graphdatascience) (2.8.2)\n",
      "Requirement already satisfied: pytz>=2017.2 in /anaconda/envs/azureml_py38/lib/python3.8/site-packages (from pandas<2.0,>=1.0->graphdatascience) (2019.3)\n",
      "Requirement already satisfied: numpy>=1.15.4 in /anaconda/envs/azureml_py38/lib/python3.8/site-packages (from pandas<2.0,>=1.0->graphdatascience) (1.21.6)\n",
      "Requirement already satisfied: six>=1.5 in /anaconda/envs/azureml_py38/lib/python3.8/site-packages (from python-dateutil>=2.7.3->pandas<2.0,>=1.0->graphdatascience) (1.16.0)\n",
      "Note: you may need to restart the kernel to use updated packages.\n",
      "Collecting azure-ai-ml\n",
      "  Downloading azure_ai_ml-1.0.0-py3-none-any.whl (4.0 MB)\n",
      "\u001b[K     |████████████████████████████████| 4.0 MB 7.2 MB/s eta 0:00:01\n",
      "\u001b[?25hRequirement already satisfied: typing-extensions<5.0.0 in /anaconda/envs/azureml_py38/lib/python3.8/site-packages (from azure-ai-ml) (4.3.0)\n",
      "Collecting marshmallow<4.0.0,>=3.5\n",
      "  Downloading marshmallow-3.18.0-py3-none-any.whl (48 kB)\n",
      "\u001b[K     |████████████████████████████████| 48 kB 5.6 MB/s  eta 0:00:01\n",
      "\u001b[?25hCollecting azure-storage-blob<13.0.0,>=12.10.0\n",
      "  Downloading azure_storage_blob-12.14.1-py3-none-any.whl (383 kB)\n",
      "\u001b[K     |████████████████████████████████| 383 kB 57.8 MB/s eta 0:00:01\n",
      "\u001b[?25hRequirement already satisfied: azure-core!=1.22.0,<2.0.0,>=1.8.0 in /anaconda/envs/azureml_py38/lib/python3.8/site-packages (from azure-ai-ml) (1.24.2)\n",
      "Requirement already satisfied: pyyaml<7.0.0,>=5.1.0 in /anaconda/envs/azureml_py38/lib/python3.8/site-packages (from azure-ai-ml) (6.0)\n",
      "Collecting colorama<=0.4.4\n",
      "  Downloading colorama-0.4.4-py2.py3-none-any.whl (16 kB)\n",
      "Requirement already satisfied: jsonschema<5.0.0,>=4.0.0 in /anaconda/envs/azureml_py38/lib/python3.8/site-packages (from azure-ai-ml) (4.9.1)\n",
      "Collecting pydash<6.0.0\n",
      "  Downloading pydash-5.1.1-py3-none-any.whl (84 kB)\n",
      "\u001b[K     |████████████████████████████████| 84 kB 2.3 MB/s  eta 0:00:01\n",
      "\u001b[?25hRequirement already satisfied: azure-mgmt-core<2.0.0,>=1.3.0 in /anaconda/envs/azureml_py38/lib/python3.8/site-packages (from azure-ai-ml) (1.3.0)\n",
      "Collecting tqdm<=4.63.0\n",
      "  Downloading tqdm-4.63.0-py2.py3-none-any.whl (76 kB)\n",
      "\u001b[K     |████████████████████████████████| 76 kB 5.5 MB/s  eta 0:00:01\n",
      "\u001b[?25hRequirement already satisfied: pyjwt<3.0.0 in /anaconda/envs/azureml_py38/lib/python3.8/site-packages (from azure-ai-ml) (2.4.0)\n",
      "Requirement already satisfied: isodate in /anaconda/envs/azureml_py38/lib/python3.8/site-packages (from azure-ai-ml) (0.6.1)\n",
      "Requirement already satisfied: azure-common<2.0.0,>=1.1 in /anaconda/envs/azureml_py38/lib/python3.8/site-packages (from azure-ai-ml) (1.1.28)\n",
      "Requirement already satisfied: msrest>=0.6.18 in /anaconda/envs/azureml_py38/lib/python3.8/site-packages (from azure-ai-ml) (0.7.1)\n",
      "Collecting azure-storage-file-share<13.0.0\n",
      "  Downloading azure_storage_file_share-12.10.1-py3-none-any.whl (252 kB)\n",
      "\u001b[K     |████████████████████████████████| 252 kB 58.7 MB/s eta 0:00:01\n",
      "\u001b[?25hCollecting strictyaml<=1.6.1\n",
      "  Downloading strictyaml-1.6.1.tar.gz (137 kB)\n",
      "\u001b[K     |████████████████████████████████| 137 kB 55.7 MB/s eta 0:00:01\n",
      "\u001b[?25hCollecting azure-storage-file-datalake<13.0.0\n",
      "  Downloading azure_storage_file_datalake-12.9.1-py3-none-any.whl (238 kB)\n",
      "\u001b[K     |████████████████████████████████| 238 kB 53.6 MB/s eta 0:00:01\n",
      "\u001b[?25hRequirement already satisfied: packaging>=17.0 in /anaconda/envs/azureml_py38/lib/python3.8/site-packages (from marshmallow<4.0.0,>=3.5->azure-ai-ml) (21.3)\n",
      "Requirement already satisfied: cryptography>=2.1.4 in /anaconda/envs/azureml_py38/lib/python3.8/site-packages (from azure-storage-blob<13.0.0,>=12.10.0->azure-ai-ml) (37.0.4)\n",
      "Requirement already satisfied: requests>=2.18.4 in /anaconda/envs/azureml_py38/lib/python3.8/site-packages (from azure-core!=1.22.0,<2.0.0,>=1.8.0->azure-ai-ml) (2.28.1)\n",
      "Requirement already satisfied: six>=1.11.0 in /anaconda/envs/azureml_py38/lib/python3.8/site-packages (from azure-core!=1.22.0,<2.0.0,>=1.8.0->azure-ai-ml) (1.16.0)\n",
      "Requirement already satisfied: pkgutil-resolve-name>=1.3.10; python_version < \"3.9\" in /anaconda/envs/azureml_py38/lib/python3.8/site-packages (from jsonschema<5.0.0,>=4.0.0->azure-ai-ml) (1.3.10)\n",
      "Requirement already satisfied: attrs>=17.4.0 in /anaconda/envs/azureml_py38/lib/python3.8/site-packages (from jsonschema<5.0.0,>=4.0.0->azure-ai-ml) (22.1.0)\n",
      "Requirement already satisfied: importlib-resources>=1.4.0; python_version < \"3.9\" in /anaconda/envs/azureml_py38/lib/python3.8/site-packages (from jsonschema<5.0.0,>=4.0.0->azure-ai-ml) (5.9.0)\n",
      "Requirement already satisfied: pyrsistent!=0.17.0,!=0.17.1,!=0.17.2,>=0.14.0 in /anaconda/envs/azureml_py38/lib/python3.8/site-packages (from jsonschema<5.0.0,>=4.0.0->azure-ai-ml) (0.18.1)\n",
      "Requirement already satisfied: certifi>=2017.4.17 in /anaconda/envs/azureml_py38/lib/python3.8/site-packages (from msrest>=0.6.18->azure-ai-ml) (2022.6.15)\n",
      "Requirement already satisfied: requests-oauthlib>=0.5.0 in /anaconda/envs/azureml_py38/lib/python3.8/site-packages (from msrest>=0.6.18->azure-ai-ml) (1.3.1)\n",
      "Requirement already satisfied: python-dateutil>=2.6.0 in /anaconda/envs/azureml_py38/lib/python3.8/site-packages (from strictyaml<=1.6.1->azure-ai-ml) (2.8.2)\n",
      "Requirement already satisfied: pyparsing!=3.0.5,>=2.0.2 in /anaconda/envs/azureml_py38/lib/python3.8/site-packages (from packaging>=17.0->marshmallow<4.0.0,>=3.5->azure-ai-ml) (3.0.9)\n",
      "Requirement already satisfied: cffi>=1.12 in /anaconda/envs/azureml_py38/lib/python3.8/site-packages (from cryptography>=2.1.4->azure-storage-blob<13.0.0,>=12.10.0->azure-ai-ml) (1.15.1)\n",
      "Requirement already satisfied: charset-normalizer<3,>=2 in /anaconda/envs/azureml_py38/lib/python3.8/site-packages (from requests>=2.18.4->azure-core!=1.22.0,<2.0.0,>=1.8.0->azure-ai-ml) (2.1.0)\n",
      "Requirement already satisfied: urllib3<1.27,>=1.21.1 in /anaconda/envs/azureml_py38/lib/python3.8/site-packages (from requests>=2.18.4->azure-core!=1.22.0,<2.0.0,>=1.8.0->azure-ai-ml) (1.26.9)\n",
      "Requirement already satisfied: idna<4,>=2.5 in /anaconda/envs/azureml_py38/lib/python3.8/site-packages (from requests>=2.18.4->azure-core!=1.22.0,<2.0.0,>=1.8.0->azure-ai-ml) (3.3)\n",
      "Requirement already satisfied: zipp>=3.1.0; python_version < \"3.10\" in /anaconda/envs/azureml_py38/lib/python3.8/site-packages (from importlib-resources>=1.4.0; python_version < \"3.9\"->jsonschema<5.0.0,>=4.0.0->azure-ai-ml) (3.8.1)\n",
      "Requirement already satisfied: oauthlib>=3.0.0 in /anaconda/envs/azureml_py38/lib/python3.8/site-packages (from requests-oauthlib>=0.5.0->msrest>=0.6.18->azure-ai-ml) (3.2.0)\n",
      "Requirement already satisfied: pycparser in /anaconda/envs/azureml_py38/lib/python3.8/site-packages (from cffi>=1.12->cryptography>=2.1.4->azure-storage-blob<13.0.0,>=12.10.0->azure-ai-ml) (2.21)\n",
      "Building wheels for collected packages: strictyaml\n",
      "  Building wheel for strictyaml (setup.py) ... \u001b[?25ldone\n",
      "\u001b[?25h  Created wheel for strictyaml: filename=strictyaml-1.6.1-py3-none-any.whl size=123915 sha256=68876a514672426a2e98e212dfab761a393dd4a3b207b10dbdc1f6fd3c5a29d2\n",
      "  Stored in directory: /home/azureuser/.cache/pip/wheels/24/8b/79/d11bb76d63bc1b37df7bd35dc1e47577eb926b7eb1b619fc2d\n",
      "Successfully built strictyaml\n",
      "\u001b[31mERROR: fbprophet 0.7.1 requires cmdstanpy==0.9.5, which is not installed.\u001b[0m\n",
      "\u001b[31mERROR: pycaret 2.3.10 has requirement numba<0.55, but you'll have numba 0.55.2 which is incompatible.\u001b[0m\n",
      "\u001b[31mERROR: pycaret 2.3.10 has requirement pyyaml<6.0.0, but you'll have pyyaml 6.0 which is incompatible.\u001b[0m\n",
      "\u001b[31mERROR: pycaret 2.3.10 has requirement scikit-learn==0.23.2, but you'll have scikit-learn 0.22.1 which is incompatible.\u001b[0m\n",
      "\u001b[31mERROR: pandas-profiling 3.2.0 has requirement joblib~=1.1.0, but you'll have joblib 0.14.1 which is incompatible.\u001b[0m\n",
      "\u001b[31mERROR: pandas-profiling 3.2.0 has requirement markupsafe~=2.1.1, but you'll have markupsafe 2.0.1 which is incompatible.\u001b[0m\n",
      "\u001b[31mERROR: azureml-mlflow 1.44.0 has requirement azure-storage-blob<=12.9.0,>=12.5.0, but you'll have azure-storage-blob 12.14.1 which is incompatible.\u001b[0m\n",
      "\u001b[31mERROR: azureml-contrib-notebook 1.44.0 has requirement nbconvert<6, but you'll have nbconvert 6.5.3 which is incompatible.\u001b[0m\n",
      "\u001b[31mERROR: azure-cli 2.39.0 has requirement azure-graphrbac~=0.60.0, but you'll have azure-graphrbac 0.61.1 which is incompatible.\u001b[0m\n",
      "\u001b[31mERROR: azure-cli 2.39.0 has requirement azure-mgmt-authorization~=0.61.0, but you'll have azure-mgmt-authorization 2.0.0 which is incompatible.\u001b[0m\n",
      "\u001b[31mERROR: azure-cli 2.39.0 has requirement azure-mgmt-containerregistry==8.2.0, but you'll have azure-mgmt-containerregistry 10.0.0 which is incompatible.\u001b[0m\n",
      "\u001b[31mERROR: azure-cli 2.39.0 has requirement azure-mgmt-keyvault==9.3.0, but you'll have azure-mgmt-keyvault 10.0.0 which is incompatible.\u001b[0m\n",
      "\u001b[31mERROR: azure-cli 2.39.0 has requirement azure-mgmt-network~=20.0.0, but you'll have azure-mgmt-network 21.0.1 which is incompatible.\u001b[0m\n",
      "\u001b[31mERROR: azure-cli 2.39.0 has requirement azure-mgmt-resource==21.1.0b1, but you'll have azure-mgmt-resource 21.1.0 which is incompatible.\u001b[0m\n",
      "Installing collected packages: marshmallow, azure-storage-blob, colorama, pydash, tqdm, azure-storage-file-share, strictyaml, azure-storage-file-datalake, azure-ai-ml\n",
      "  Attempting uninstall: azure-storage-blob\n",
      "    Found existing installation: azure-storage-blob 12.9.0\n",
      "    Uninstalling azure-storage-blob-12.9.0:\n",
      "      Successfully uninstalled azure-storage-blob-12.9.0\n",
      "  Attempting uninstall: colorama\n",
      "    Found existing installation: colorama 0.4.5\n",
      "    Uninstalling colorama-0.4.5:\n",
      "      Successfully uninstalled colorama-0.4.5\n",
      "  Attempting uninstall: tqdm\n",
      "    Found existing installation: tqdm 4.64.0\n",
      "    Uninstalling tqdm-4.64.0:\n",
      "      Successfully uninstalled tqdm-4.64.0\n",
      "Successfully installed azure-ai-ml-1.0.0 azure-storage-blob-12.14.1 azure-storage-file-datalake-12.9.1 azure-storage-file-share-12.10.1 colorama-0.4.4 marshmallow-3.18.0 pydash-5.1.1 strictyaml-1.6.1 tqdm-4.63.0\n",
      "Note: you may need to restart the kernel to use updated packages.\n",
      "Requirement already satisfied: azureml-mlflow in /anaconda/envs/azureml_py38/lib/python3.8/site-packages (1.44.0)\n",
      "Requirement already satisfied: azure-core!=1.22.0,<2.0.0,>=1.8.0 in /anaconda/envs/azureml_py38/lib/python3.8/site-packages (from azureml-mlflow) (1.24.2)\n",
      "Requirement already satisfied: azure-identity in /anaconda/envs/azureml_py38/lib/python3.8/site-packages (from azureml-mlflow) (1.7.0)\n",
      "Requirement already satisfied: azure-mgmt-core<2.0.0,>=1.2.0 in /anaconda/envs/azureml_py38/lib/python3.8/site-packages (from azureml-mlflow) (1.3.0)\n",
      "Requirement already satisfied: mlflow-skinny in /anaconda/envs/azureml_py38/lib/python3.8/site-packages (from azureml-mlflow) (1.27.0)\n",
      "Requirement already satisfied: jsonpickle in /anaconda/envs/azureml_py38/lib/python3.8/site-packages (from azureml-mlflow) (2.2.0)\n",
      "Requirement already satisfied: msrest>=0.6.18 in /anaconda/envs/azureml_py38/lib/python3.8/site-packages (from azureml-mlflow) (0.7.1)\n",
      "Requirement already satisfied: cryptography in /anaconda/envs/azureml_py38/lib/python3.8/site-packages (from azureml-mlflow) (37.0.4)\n",
      "Requirement already satisfied: azure-common<2.0.0,>=1.1 in /anaconda/envs/azureml_py38/lib/python3.8/site-packages (from azureml-mlflow) (1.1.28)\n",
      "Requirement already satisfied: python-dateutil<3.0.0,>=2.7.3 in /anaconda/envs/azureml_py38/lib/python3.8/site-packages (from azureml-mlflow) (2.8.2)\n",
      "Collecting azure-storage-blob<=12.9.0,>=12.5.0\n",
      "  Downloading azure_storage_blob-12.9.0-py2.py3-none-any.whl (356 kB)\n",
      "\u001b[K     |████████████████████████████████| 356 kB 7.1 MB/s eta 0:00:01     |███████████                     | 122 kB 7.1 MB/s eta 0:00:01\n",
      "\u001b[?25hRequirement already satisfied: requests>=2.18.4 in /anaconda/envs/azureml_py38/lib/python3.8/site-packages (from azure-core!=1.22.0,<2.0.0,>=1.8.0->azureml-mlflow) (2.28.1)\n",
      "Requirement already satisfied: typing-extensions>=4.0.1 in /anaconda/envs/azureml_py38/lib/python3.8/site-packages (from azure-core!=1.22.0,<2.0.0,>=1.8.0->azureml-mlflow) (4.3.0)\n",
      "Requirement already satisfied: six>=1.11.0 in /anaconda/envs/azureml_py38/lib/python3.8/site-packages (from azure-core!=1.22.0,<2.0.0,>=1.8.0->azureml-mlflow) (1.16.0)\n",
      "Requirement already satisfied: msal<2.0.0,>=1.12.0 in /anaconda/envs/azureml_py38/lib/python3.8/site-packages (from azure-identity->azureml-mlflow) (1.18.0)\n",
      "Requirement already satisfied: msal-extensions~=0.3.0 in /anaconda/envs/azureml_py38/lib/python3.8/site-packages (from azure-identity->azureml-mlflow) (0.3.1)\n",
      "Requirement already satisfied: click>=7.0 in /anaconda/envs/azureml_py38/lib/python3.8/site-packages (from mlflow-skinny->azureml-mlflow) (7.1.2)\n",
      "Requirement already satisfied: cloudpickle in /anaconda/envs/azureml_py38/lib/python3.8/site-packages (from mlflow-skinny->azureml-mlflow) (1.6.0)\n",
      "Requirement already satisfied: pyyaml>=5.1 in /anaconda/envs/azureml_py38/lib/python3.8/site-packages (from mlflow-skinny->azureml-mlflow) (6.0)\n",
      "Requirement already satisfied: protobuf>=3.12.0 in /anaconda/envs/azureml_py38/lib/python3.8/site-packages (from mlflow-skinny->azureml-mlflow) (3.20.1)\n",
      "Requirement already satisfied: packaging in /anaconda/envs/azureml_py38/lib/python3.8/site-packages (from mlflow-skinny->azureml-mlflow) (21.3)\n",
      "Requirement already satisfied: gitpython>=2.1.0 in /anaconda/envs/azureml_py38/lib/python3.8/site-packages (from mlflow-skinny->azureml-mlflow) (3.1.27)\n",
      "Requirement already satisfied: importlib-metadata!=4.7.0,>=3.7.0 in /anaconda/envs/azureml_py38/lib/python3.8/site-packages (from mlflow-skinny->azureml-mlflow) (4.12.0)\n",
      "Requirement already satisfied: pytz in /anaconda/envs/azureml_py38/lib/python3.8/site-packages (from mlflow-skinny->azureml-mlflow) (2019.3)\n",
      "Requirement already satisfied: entrypoints in /anaconda/envs/azureml_py38/lib/python3.8/site-packages (from mlflow-skinny->azureml-mlflow) (0.4)\n",
      "Requirement already satisfied: databricks-cli>=0.8.7 in /anaconda/envs/azureml_py38/lib/python3.8/site-packages (from mlflow-skinny->azureml-mlflow) (0.17.0)\n",
      "Requirement already satisfied: requests-oauthlib>=0.5.0 in /anaconda/envs/azureml_py38/lib/python3.8/site-packages (from msrest>=0.6.18->azureml-mlflow) (1.3.1)\n",
      "Requirement already satisfied: certifi>=2017.4.17 in /anaconda/envs/azureml_py38/lib/python3.8/site-packages (from msrest>=0.6.18->azureml-mlflow) (2022.6.15)\n",
      "Requirement already satisfied: isodate>=0.6.0 in /anaconda/envs/azureml_py38/lib/python3.8/site-packages (from msrest>=0.6.18->azureml-mlflow) (0.6.1)\n",
      "Requirement already satisfied: cffi>=1.12 in /anaconda/envs/azureml_py38/lib/python3.8/site-packages (from cryptography->azureml-mlflow) (1.15.1)\n",
      "Requirement already satisfied: charset-normalizer<3,>=2 in /anaconda/envs/azureml_py38/lib/python3.8/site-packages (from requests>=2.18.4->azure-core!=1.22.0,<2.0.0,>=1.8.0->azureml-mlflow) (2.1.0)\n",
      "Requirement already satisfied: urllib3<1.27,>=1.21.1 in /anaconda/envs/azureml_py38/lib/python3.8/site-packages (from requests>=2.18.4->azure-core!=1.22.0,<2.0.0,>=1.8.0->azureml-mlflow) (1.26.9)\n",
      "Requirement already satisfied: idna<4,>=2.5 in /anaconda/envs/azureml_py38/lib/python3.8/site-packages (from requests>=2.18.4->azure-core!=1.22.0,<2.0.0,>=1.8.0->azureml-mlflow) (3.3)\n",
      "Requirement already satisfied: PyJWT[crypto]<3,>=1.0.0 in /anaconda/envs/azureml_py38/lib/python3.8/site-packages (from msal<2.0.0,>=1.12.0->azure-identity->azureml-mlflow) (2.4.0)\n",
      "Requirement already satisfied: portalocker<3,>=1.0; python_version >= \"3.5\" and platform_system != \"Windows\" in /anaconda/envs/azureml_py38/lib/python3.8/site-packages (from msal-extensions~=0.3.0->azure-identity->azureml-mlflow) (2.5.1)\n",
      "Requirement already satisfied: pyparsing!=3.0.5,>=2.0.2 in /anaconda/envs/azureml_py38/lib/python3.8/site-packages (from packaging->mlflow-skinny->azureml-mlflow) (3.0.9)\n",
      "Requirement already satisfied: gitdb<5,>=4.0.1 in /anaconda/envs/azureml_py38/lib/python3.8/site-packages (from gitpython>=2.1.0->mlflow-skinny->azureml-mlflow) (4.0.9)\n",
      "Requirement already satisfied: zipp>=0.5 in /anaconda/envs/azureml_py38/lib/python3.8/site-packages (from importlib-metadata!=4.7.0,>=3.7.0->mlflow-skinny->azureml-mlflow) (3.8.1)\n",
      "Requirement already satisfied: tabulate>=0.7.7 in /anaconda/envs/azureml_py38/lib/python3.8/site-packages (from databricks-cli>=0.8.7->mlflow-skinny->azureml-mlflow) (0.8.10)\n",
      "Requirement already satisfied: oauthlib>=3.1.0 in /anaconda/envs/azureml_py38/lib/python3.8/site-packages (from databricks-cli>=0.8.7->mlflow-skinny->azureml-mlflow) (3.2.0)\n",
      "Requirement already satisfied: pycparser in /anaconda/envs/azureml_py38/lib/python3.8/site-packages (from cffi>=1.12->cryptography->azureml-mlflow) (2.21)\n",
      "Requirement already satisfied: smmap<6,>=3.0.1 in /anaconda/envs/azureml_py38/lib/python3.8/site-packages (from gitdb<5,>=4.0.1->gitpython>=2.1.0->mlflow-skinny->azureml-mlflow) (5.0.0)\n",
      "\u001b[31mERROR: azure-storage-file-datalake 12.9.1 has requirement azure-storage-blob<13.0.0,>=12.14.1, but you'll have azure-storage-blob 12.9.0 which is incompatible.\u001b[0m\n",
      "\u001b[31mERROR: azure-ai-ml 1.0.0 has requirement azure-storage-blob<13.0.0,>=12.10.0, but you'll have azure-storage-blob 12.9.0 which is incompatible.\u001b[0m\n",
      "Installing collected packages: azure-storage-blob\n",
      "  Attempting uninstall: azure-storage-blob\n",
      "    Found existing installation: azure-storage-blob 12.14.1\n",
      "    Uninstalling azure-storage-blob-12.14.1:\n",
      "      Successfully uninstalled azure-storage-blob-12.14.1\n",
      "Successfully installed azure-storage-blob-12.9.0\n",
      "Note: you may need to restart the kernel to use updated packages.\n",
      "Requirement already satisfied: mlflow in /anaconda/envs/azureml_py38/lib/python3.8/site-packages (1.28.0)\n",
      "Requirement already satisfied: cloudpickle<3 in /anaconda/envs/azureml_py38/lib/python3.8/site-packages (from mlflow) (1.6.0)\n",
      "Requirement already satisfied: scipy<2 in /anaconda/envs/azureml_py38/lib/python3.8/site-packages (from mlflow) (1.5.3)\n",
      "Requirement already satisfied: protobuf<5,>=3.12.0 in /anaconda/envs/azureml_py38/lib/python3.8/site-packages (from mlflow) (3.20.1)\n",
      "Requirement already satisfied: docker<6,>=4.0.0 in /anaconda/envs/azureml_py38/lib/python3.8/site-packages (from mlflow) (5.0.3)\n",
      "Requirement already satisfied: sqlparse<1,>=0.4.0 in /anaconda/envs/azureml_py38/lib/python3.8/site-packages (from mlflow) (0.4.2)\n",
      "Requirement already satisfied: gitpython<4,>=2.1.0 in /anaconda/envs/azureml_py38/lib/python3.8/site-packages (from mlflow) (3.1.27)\n",
      "Requirement already satisfied: importlib-metadata!=4.7.0,<5,>=3.7.0 in /anaconda/envs/azureml_py38/lib/python3.8/site-packages (from mlflow) (4.12.0)\n",
      "Requirement already satisfied: querystring-parser<2 in /anaconda/envs/azureml_py38/lib/python3.8/site-packages (from mlflow) (1.2.4)\n",
      "Requirement already satisfied: click<9,>=7.0 in /anaconda/envs/azureml_py38/lib/python3.8/site-packages (from mlflow) (7.1.2)\n",
      "Requirement already satisfied: numpy<2 in /anaconda/envs/azureml_py38/lib/python3.8/site-packages (from mlflow) (1.21.6)\n",
      "Requirement already satisfied: sqlalchemy<2,>=1.4.0 in /anaconda/envs/azureml_py38/lib/python3.8/site-packages (from mlflow) (1.4.40)\n",
      "Requirement already satisfied: pyyaml<7,>=5.1 in /anaconda/envs/azureml_py38/lib/python3.8/site-packages (from mlflow) (6.0)\n",
      "Requirement already satisfied: pytz<2023 in /anaconda/envs/azureml_py38/lib/python3.8/site-packages (from mlflow) (2019.3)\n",
      "Requirement already satisfied: entrypoints<1 in /anaconda/envs/azureml_py38/lib/python3.8/site-packages (from mlflow) (0.4)\n",
      "Requirement already satisfied: prometheus-flask-exporter<1 in /anaconda/envs/azureml_py38/lib/python3.8/site-packages (from mlflow) (0.20.3)\n",
      "Requirement already satisfied: databricks-cli<1,>=0.8.7 in /anaconda/envs/azureml_py38/lib/python3.8/site-packages (from mlflow) (0.17.0)\n",
      "Requirement already satisfied: packaging<22 in /anaconda/envs/azureml_py38/lib/python3.8/site-packages (from mlflow) (21.3)\n",
      "Requirement already satisfied: gunicorn<21; platform_system != \"Windows\" in /anaconda/envs/azureml_py38/lib/python3.8/site-packages (from mlflow) (20.1.0)\n",
      "Requirement already satisfied: alembic<2 in /anaconda/envs/azureml_py38/lib/python3.8/site-packages (from mlflow) (1.8.1)\n",
      "Requirement already satisfied: Flask<3 in /anaconda/envs/azureml_py38/lib/python3.8/site-packages (from mlflow) (1.1.4)\n",
      "Requirement already satisfied: requests<3,>=2.17.3 in /anaconda/envs/azureml_py38/lib/python3.8/site-packages (from mlflow) (2.28.1)\n",
      "Requirement already satisfied: pandas<2 in /anaconda/envs/azureml_py38/lib/python3.8/site-packages (from mlflow) (1.1.5)\n",
      "Requirement already satisfied: websocket-client>=0.32.0 in /anaconda/envs/azureml_py38/lib/python3.8/site-packages (from docker<6,>=4.0.0->mlflow) (1.3.3)\n",
      "Requirement already satisfied: gitdb<5,>=4.0.1 in /anaconda/envs/azureml_py38/lib/python3.8/site-packages (from gitpython<4,>=2.1.0->mlflow) (4.0.9)\n",
      "Requirement already satisfied: zipp>=0.5 in /anaconda/envs/azureml_py38/lib/python3.8/site-packages (from importlib-metadata!=4.7.0,<5,>=3.7.0->mlflow) (3.8.1)\n",
      "Requirement already satisfied: six in /anaconda/envs/azureml_py38/lib/python3.8/site-packages (from querystring-parser<2->mlflow) (1.16.0)\n",
      "Requirement already satisfied: greenlet!=0.4.17; python_version >= \"3\" and (platform_machine == \"aarch64\" or (platform_machine == \"ppc64le\" or (platform_machine == \"x86_64\" or (platform_machine == \"amd64\" or (platform_machine == \"AMD64\" or (platform_machine == \"win32\" or platform_machine == \"WIN32\")))))) in /anaconda/envs/azureml_py38/lib/python3.8/site-packages (from sqlalchemy<2,>=1.4.0->mlflow) (1.1.2)\n",
      "Requirement already satisfied: prometheus-client in /anaconda/envs/azureml_py38/lib/python3.8/site-packages (from prometheus-flask-exporter<1->mlflow) (0.14.1)\n",
      "Requirement already satisfied: pyjwt>=1.7.0 in /anaconda/envs/azureml_py38/lib/python3.8/site-packages (from databricks-cli<1,>=0.8.7->mlflow) (2.4.0)\n",
      "Requirement already satisfied: tabulate>=0.7.7 in /anaconda/envs/azureml_py38/lib/python3.8/site-packages (from databricks-cli<1,>=0.8.7->mlflow) (0.8.10)\n",
      "Requirement already satisfied: oauthlib>=3.1.0 in /anaconda/envs/azureml_py38/lib/python3.8/site-packages (from databricks-cli<1,>=0.8.7->mlflow) (3.2.0)\n",
      "Requirement already satisfied: pyparsing!=3.0.5,>=2.0.2 in /anaconda/envs/azureml_py38/lib/python3.8/site-packages (from packaging<22->mlflow) (3.0.9)\n",
      "Requirement already satisfied: setuptools>=3.0 in /anaconda/envs/azureml_py38/lib/python3.8/site-packages (from gunicorn<21; platform_system != \"Windows\"->mlflow) (49.6.0)\n",
      "Requirement already satisfied: Mako in /anaconda/envs/azureml_py38/lib/python3.8/site-packages (from alembic<2->mlflow) (1.2.1)\n",
      "Requirement already satisfied: importlib-resources; python_version < \"3.9\" in /anaconda/envs/azureml_py38/lib/python3.8/site-packages (from alembic<2->mlflow) (5.9.0)\n",
      "Requirement already satisfied: Werkzeug<2.0,>=0.15 in /anaconda/envs/azureml_py38/lib/python3.8/site-packages (from Flask<3->mlflow) (1.0.1)\n",
      "Requirement already satisfied: itsdangerous<2.0,>=0.24 in /anaconda/envs/azureml_py38/lib/python3.8/site-packages (from Flask<3->mlflow) (1.1.0)\n",
      "Requirement already satisfied: Jinja2<3.0,>=2.10.1 in /anaconda/envs/azureml_py38/lib/python3.8/site-packages (from Flask<3->mlflow) (2.11.2)\n",
      "Requirement already satisfied: urllib3<1.27,>=1.21.1 in /anaconda/envs/azureml_py38/lib/python3.8/site-packages (from requests<3,>=2.17.3->mlflow) (1.26.9)\n",
      "Requirement already satisfied: idna<4,>=2.5 in /anaconda/envs/azureml_py38/lib/python3.8/site-packages (from requests<3,>=2.17.3->mlflow) (3.3)\n",
      "Requirement already satisfied: certifi>=2017.4.17 in /anaconda/envs/azureml_py38/lib/python3.8/site-packages (from requests<3,>=2.17.3->mlflow) (2022.6.15)\n",
      "Requirement already satisfied: charset-normalizer<3,>=2 in /anaconda/envs/azureml_py38/lib/python3.8/site-packages (from requests<3,>=2.17.3->mlflow) (2.1.0)\n",
      "Requirement already satisfied: python-dateutil>=2.7.3 in /anaconda/envs/azureml_py38/lib/python3.8/site-packages (from pandas<2->mlflow) (2.8.2)\n",
      "Requirement already satisfied: smmap<6,>=3.0.1 in /anaconda/envs/azureml_py38/lib/python3.8/site-packages (from gitdb<5,>=4.0.1->gitpython<4,>=2.1.0->mlflow) (5.0.0)\n",
      "Requirement already satisfied: MarkupSafe>=0.9.2 in /anaconda/envs/azureml_py38/lib/python3.8/site-packages (from Mako->alembic<2->mlflow) (2.0.1)\n",
      "Note: you may need to restart the kernel to use updated packages.\n",
      "Collecting mltable\n",
      "  Downloading mltable-0.1.0b4-py3-none-any.whl (137 kB)\n",
      "\u001b[K     |████████████████████████████████| 137 kB 7.4 MB/s eta 0:00:01\n",
      "\u001b[?25hCollecting azureml-dataprep[parquet]<4.6.0a,>=4.5.0a\n",
      "  Downloading azureml_dataprep-4.5.7-py3-none-any.whl (43.4 MB)\n",
      "\u001b[K     |████████████████████████████████| 43.4 MB 9.5 kB/s  eta 0:00:01     |█████████████▍                  | 18.1 MB 45.1 MB/s eta 0:00:01\n",
      "\u001b[?25hRequirement already satisfied: azureml-core in /anaconda/envs/azureml_py38/lib/python3.8/site-packages (from mltable) (1.44.0)\n",
      "Collecting azure-mgmt-storage~=19.1.0\n",
      "  Downloading azure_mgmt_storage-19.1.0-py3-none-any.whl (1.8 MB)\n",
      "\u001b[K     |████████████████████████████████| 1.8 MB 44.7 MB/s eta 0:00:01\n",
      "\u001b[?25hRequirement already satisfied: pyyaml<7.0.0,>=5.1.0 in /anaconda/envs/azureml_py38/lib/python3.8/site-packages (from mltable) (6.0)\n",
      "Requirement already satisfied: azureml-dataprep-native<39.0.0,>=38.0.0 in /anaconda/envs/azureml_py38/lib/python3.8/site-packages (from azureml-dataprep[parquet]<4.6.0a,>=4.5.0a->mltable) (38.0.0)\n",
      "Requirement already satisfied: azure-identity==1.7.0 in /anaconda/envs/azureml_py38/lib/python3.8/site-packages (from azureml-dataprep[parquet]<4.6.0a,>=4.5.0a->mltable) (1.7.0)\n",
      "Requirement already satisfied: jsonschema in /anaconda/envs/azureml_py38/lib/python3.8/site-packages (from azureml-dataprep[parquet]<4.6.0a,>=4.5.0a->mltable) (4.9.1)\n",
      "Requirement already satisfied: dotnetcore2<4.0.0,>=3.0.0 in /anaconda/envs/azureml_py38/lib/python3.8/site-packages (from azureml-dataprep[parquet]<4.6.0a,>=4.5.0a->mltable) (3.1.23)\n",
      "Requirement already satisfied: cloudpickle<3.0.0,>=1.1.0 in /anaconda/envs/azureml_py38/lib/python3.8/site-packages (from azureml-dataprep[parquet]<4.6.0a,>=4.5.0a->mltable) (1.6.0)\n",
      "Collecting azureml-dataprep-rslex~=2.11.0dev0\n",
      "  Downloading azureml_dataprep_rslex-2.11.4-cp38-cp38-manylinux_2_17_x86_64.manylinux2014_x86_64.whl (15.3 MB)\n",
      "\u001b[K     |████████████████████████████████| 15.3 MB 41.6 MB/s eta 0:00:01\n",
      "\u001b[?25hRequirement already satisfied: pyarrow<6.0.1,>=0.17.0; extra == \"parquet\" in /anaconda/envs/azureml_py38/lib/python3.8/site-packages (from azureml-dataprep[parquet]<4.6.0a,>=4.5.0a->mltable) (6.0.0)\n",
      "Requirement already satisfied: msrestazure<=0.6.4,>=0.4.33 in /anaconda/envs/azureml_py38/lib/python3.8/site-packages (from azureml-core->mltable) (0.6.4)\n",
      "Requirement already satisfied: msal<2.0.0,>=1.15.0 in /anaconda/envs/azureml_py38/lib/python3.8/site-packages (from azureml-core->mltable) (1.18.0)\n",
      "Requirement already satisfied: SecretStorage<4.0.0 in /anaconda/envs/azureml_py38/lib/python3.8/site-packages (from azureml-core->mltable) (3.3.2)\n",
      "Requirement already satisfied: jmespath<=1.0.0 in /anaconda/envs/azureml_py38/lib/python3.8/site-packages (from azureml-core->mltable) (0.10.0)\n",
      "Requirement already satisfied: cryptography!=1.9,!=2.0.*,!=2.1.*,!=2.2.*,<38.0.0 in /anaconda/envs/azureml_py38/lib/python3.8/site-packages (from azureml-core->mltable) (37.0.4)\n",
      "Requirement already satisfied: adal<=1.2.7,>=1.2.0 in /anaconda/envs/azureml_py38/lib/python3.8/site-packages (from azureml-core->mltable) (1.2.7)\n",
      "Requirement already satisfied: urllib3<=1.26.9,>=1.23 in /anaconda/envs/azureml_py38/lib/python3.8/site-packages (from azureml-core->mltable) (1.26.9)\n",
      "Requirement already satisfied: azure-mgmt-resource<22.0.0,>=15.0.0 in /anaconda/envs/azureml_py38/lib/python3.8/site-packages (from azureml-core->mltable) (21.1.0)\n",
      "Requirement already satisfied: argcomplete<3 in /anaconda/envs/azureml_py38/lib/python3.8/site-packages (from azureml-core->mltable) (2.0.0)\n",
      "Requirement already satisfied: contextlib2<22.0.0 in /anaconda/envs/azureml_py38/lib/python3.8/site-packages (from azureml-core->mltable) (21.6.0)\n",
      "Requirement already satisfied: azure-mgmt-keyvault<11.0.0,>=0.40.0 in /anaconda/envs/azureml_py38/lib/python3.8/site-packages (from azureml-core->mltable) (10.0.0)\n",
      "Requirement already satisfied: PyJWT<3.0.0 in /anaconda/envs/azureml_py38/lib/python3.8/site-packages (from azureml-core->mltable) (2.4.0)\n",
      "Requirement already satisfied: humanfriendly<11.0,>=4.7 in /anaconda/envs/azureml_py38/lib/python3.8/site-packages (from azureml-core->mltable) (10.0)\n",
      "Requirement already satisfied: azure-mgmt-authorization<3,>=0.40.0 in /anaconda/envs/azureml_py38/lib/python3.8/site-packages (from azureml-core->mltable) (2.0.0)\n",
      "Requirement already satisfied: azure-mgmt-containerregistry<11,>=8.2.0 in /anaconda/envs/azureml_py38/lib/python3.8/site-packages (from azureml-core->mltable) (10.0.0)\n",
      "Requirement already satisfied: azure-graphrbac<1.0.0,>=0.40.0 in /anaconda/envs/azureml_py38/lib/python3.8/site-packages (from azureml-core->mltable) (0.61.1)\n",
      "Requirement already satisfied: pkginfo in /anaconda/envs/azureml_py38/lib/python3.8/site-packages (from azureml-core->mltable) (1.8.3)\n",
      "Requirement already satisfied: msrest<=0.7.1,>=0.5.1 in /anaconda/envs/azureml_py38/lib/python3.8/site-packages (from azureml-core->mltable) (0.7.1)\n",
      "Requirement already satisfied: pytz in /anaconda/envs/azureml_py38/lib/python3.8/site-packages (from azureml-core->mltable) (2019.3)\n",
      "Requirement already satisfied: backports.tempfile in /anaconda/envs/azureml_py38/lib/python3.8/site-packages (from azureml-core->mltable) (1.0)\n",
      "Requirement already satisfied: paramiko<3.0.0,>=2.0.8 in /anaconda/envs/azureml_py38/lib/python3.8/site-packages (from azureml-core->mltable) (2.11.0)\n",
      "Requirement already satisfied: knack~=0.9.0 in /anaconda/envs/azureml_py38/lib/python3.8/site-packages (from azureml-core->mltable) (0.9.0)\n",
      "Requirement already satisfied: azure-core<2.0.0 in /anaconda/envs/azureml_py38/lib/python3.8/site-packages (from azureml-core->mltable) (1.24.2)\n",
      "Requirement already satisfied: azure-common<2.0.0,>=1.1.12 in /anaconda/envs/azureml_py38/lib/python3.8/site-packages (from azureml-core->mltable) (1.1.28)\n",
      "Requirement already satisfied: pyopenssl<23.0.0 in /anaconda/envs/azureml_py38/lib/python3.8/site-packages (from azureml-core->mltable) (22.0.0)\n",
      "Requirement already satisfied: docker<6.0.0 in /anaconda/envs/azureml_py38/lib/python3.8/site-packages (from azureml-core->mltable) (5.0.3)\n",
      "Requirement already satisfied: pathspec<1.0.0 in /anaconda/envs/azureml_py38/lib/python3.8/site-packages (from azureml-core->mltable) (0.9.0)\n",
      "Requirement already satisfied: requests[socks]<3.0.0,>=2.19.1 in /anaconda/envs/azureml_py38/lib/python3.8/site-packages (from azureml-core->mltable) (2.28.1)\n",
      "Requirement already satisfied: ndg-httpsclient<=0.5.1 in /anaconda/envs/azureml_py38/lib/python3.8/site-packages (from azureml-core->mltable) (0.5.1)\n",
      "Requirement already satisfied: jsonpickle<3.0.0 in /anaconda/envs/azureml_py38/lib/python3.8/site-packages (from azureml-core->mltable) (2.2.0)\n",
      "Requirement already satisfied: packaging<22.0,>=20.0 in /anaconda/envs/azureml_py38/lib/python3.8/site-packages (from azureml-core->mltable) (21.3)\n",
      "Requirement already satisfied: python-dateutil<3.0.0,>=2.7.3 in /anaconda/envs/azureml_py38/lib/python3.8/site-packages (from azureml-core->mltable) (2.8.2)\n",
      "Requirement already satisfied: msal-extensions<=1.0.0,>=0.3.0 in /anaconda/envs/azureml_py38/lib/python3.8/site-packages (from azureml-core->mltable) (0.3.1)\n",
      "Requirement already satisfied: azure-mgmt-core<2.0.0,>=1.3.0 in /anaconda/envs/azureml_py38/lib/python3.8/site-packages (from azure-mgmt-storage~=19.1.0->mltable) (1.3.0)\n",
      "Requirement already satisfied: six>=1.12.0 in /anaconda/envs/azureml_py38/lib/python3.8/site-packages (from azure-identity==1.7.0->azureml-dataprep[parquet]<4.6.0a,>=4.5.0a->mltable) (1.16.0)\n",
      "Requirement already satisfied: attrs>=17.4.0 in /anaconda/envs/azureml_py38/lib/python3.8/site-packages (from jsonschema->azureml-dataprep[parquet]<4.6.0a,>=4.5.0a->mltable) (22.1.0)\n",
      "Requirement already satisfied: importlib-resources>=1.4.0; python_version < \"3.9\" in /anaconda/envs/azureml_py38/lib/python3.8/site-packages (from jsonschema->azureml-dataprep[parquet]<4.6.0a,>=4.5.0a->mltable) (5.9.0)\n",
      "Requirement already satisfied: pyrsistent!=0.17.0,!=0.17.1,!=0.17.2,>=0.14.0 in /anaconda/envs/azureml_py38/lib/python3.8/site-packages (from jsonschema->azureml-dataprep[parquet]<4.6.0a,>=4.5.0a->mltable) (0.18.1)\n",
      "Requirement already satisfied: pkgutil-resolve-name>=1.3.10; python_version < \"3.9\" in /anaconda/envs/azureml_py38/lib/python3.8/site-packages (from jsonschema->azureml-dataprep[parquet]<4.6.0a,>=4.5.0a->mltable) (1.3.10)\n",
      "Requirement already satisfied: distro>=1.2.0 in /anaconda/envs/azureml_py38/lib/python3.8/site-packages (from dotnetcore2<4.0.0,>=3.0.0->azureml-dataprep[parquet]<4.6.0a,>=4.5.0a->mltable) (1.7.0)\n",
      "Requirement already satisfied: numpy>=1.16.6 in /anaconda/envs/azureml_py38/lib/python3.8/site-packages (from pyarrow<6.0.1,>=0.17.0; extra == \"parquet\"->azureml-dataprep[parquet]<4.6.0a,>=4.5.0a->mltable) (1.21.6)\n",
      "Requirement already satisfied: jeepney>=0.6 in /anaconda/envs/azureml_py38/lib/python3.8/site-packages (from SecretStorage<4.0.0->azureml-core->mltable) (0.8.0)\n",
      "Requirement already satisfied: cffi>=1.12 in /anaconda/envs/azureml_py38/lib/python3.8/site-packages (from cryptography!=1.9,!=2.0.*,!=2.1.*,!=2.2.*,<38.0.0->azureml-core->mltable) (1.15.1)\n",
      "Requirement already satisfied: isodate>=0.6.0 in /anaconda/envs/azureml_py38/lib/python3.8/site-packages (from msrest<=0.7.1,>=0.5.1->azureml-core->mltable) (0.6.1)\n",
      "Requirement already satisfied: certifi>=2017.4.17 in /anaconda/envs/azureml_py38/lib/python3.8/site-packages (from msrest<=0.7.1,>=0.5.1->azureml-core->mltable) (2022.6.15)\n",
      "Requirement already satisfied: requests-oauthlib>=0.5.0 in /anaconda/envs/azureml_py38/lib/python3.8/site-packages (from msrest<=0.7.1,>=0.5.1->azureml-core->mltable) (1.3.1)\n",
      "Requirement already satisfied: backports.weakref in /anaconda/envs/azureml_py38/lib/python3.8/site-packages (from backports.tempfile->azureml-core->mltable) (1.0.post1)\n",
      "Requirement already satisfied: bcrypt>=3.1.3 in /anaconda/envs/azureml_py38/lib/python3.8/site-packages (from paramiko<3.0.0,>=2.0.8->azureml-core->mltable) (3.2.2)\n",
      "Requirement already satisfied: pynacl>=1.0.1 in /anaconda/envs/azureml_py38/lib/python3.8/site-packages (from paramiko<3.0.0,>=2.0.8->azureml-core->mltable) (1.5.0)\n",
      "Requirement already satisfied: tabulate in /anaconda/envs/azureml_py38/lib/python3.8/site-packages (from knack~=0.9.0->azureml-core->mltable) (0.8.10)\n",
      "Requirement already satisfied: pygments in /anaconda/envs/azureml_py38/lib/python3.8/site-packages (from knack~=0.9.0->azureml-core->mltable) (2.12.0)\n",
      "Requirement already satisfied: typing-extensions>=4.0.1 in /anaconda/envs/azureml_py38/lib/python3.8/site-packages (from azure-core<2.0.0->azureml-core->mltable) (4.3.0)\n",
      "Requirement already satisfied: websocket-client>=0.32.0 in /anaconda/envs/azureml_py38/lib/python3.8/site-packages (from docker<6.0.0->azureml-core->mltable) (1.3.3)\n",
      "Requirement already satisfied: idna<4,>=2.5 in /anaconda/envs/azureml_py38/lib/python3.8/site-packages (from requests[socks]<3.0.0,>=2.19.1->azureml-core->mltable) (3.3)\n",
      "Requirement already satisfied: charset-normalizer<3,>=2 in /anaconda/envs/azureml_py38/lib/python3.8/site-packages (from requests[socks]<3.0.0,>=2.19.1->azureml-core->mltable) (2.1.0)\n",
      "Requirement already satisfied: PySocks!=1.5.7,>=1.5.6; extra == \"socks\" in /anaconda/envs/azureml_py38/lib/python3.8/site-packages (from requests[socks]<3.0.0,>=2.19.1->azureml-core->mltable) (1.7.1)\n",
      "Requirement already satisfied: pyasn1>=0.1.1 in /anaconda/envs/azureml_py38/lib/python3.8/site-packages (from ndg-httpsclient<=0.5.1->azureml-core->mltable) (0.4.8)\n",
      "Requirement already satisfied: pyparsing!=3.0.5,>=2.0.2 in /anaconda/envs/azureml_py38/lib/python3.8/site-packages (from packaging<22.0,>=20.0->azureml-core->mltable) (3.0.9)\n",
      "Requirement already satisfied: portalocker<3,>=1.0; python_version >= \"3.5\" and platform_system != \"Windows\" in /anaconda/envs/azureml_py38/lib/python3.8/site-packages (from msal-extensions<=1.0.0,>=0.3.0->azureml-core->mltable) (2.5.1)\n",
      "Requirement already satisfied: zipp>=3.1.0; python_version < \"3.10\" in /anaconda/envs/azureml_py38/lib/python3.8/site-packages (from importlib-resources>=1.4.0; python_version < \"3.9\"->jsonschema->azureml-dataprep[parquet]<4.6.0a,>=4.5.0a->mltable) (3.8.1)\n",
      "Requirement already satisfied: pycparser in /anaconda/envs/azureml_py38/lib/python3.8/site-packages (from cffi>=1.12->cryptography!=1.9,!=2.0.*,!=2.1.*,!=2.2.*,<38.0.0->azureml-core->mltable) (2.21)\n",
      "Requirement already satisfied: oauthlib>=3.0.0 in /anaconda/envs/azureml_py38/lib/python3.8/site-packages (from requests-oauthlib>=0.5.0->msrest<=0.7.1,>=0.5.1->azureml-core->mltable) (3.2.0)\n",
      "\u001b[31mERROR: azureml-dataset-runtime 1.44.0 has requirement azureml-dataprep<4.3.0a,>=4.2.0a, but you'll have azureml-dataprep 4.5.7 which is incompatible.\u001b[0m\n",
      "\u001b[31mERROR: azureml-contrib-notebook 1.44.0 has requirement nbconvert<6, but you'll have nbconvert 6.5.3 which is incompatible.\u001b[0m\n",
      "\u001b[31mERROR: azure-cli 2.39.0 has requirement azure-graphrbac~=0.60.0, but you'll have azure-graphrbac 0.61.1 which is incompatible.\u001b[0m\n",
      "\u001b[31mERROR: azure-cli 2.39.0 has requirement azure-mgmt-authorization~=0.61.0, but you'll have azure-mgmt-authorization 2.0.0 which is incompatible.\u001b[0m\n",
      "\u001b[31mERROR: azure-cli 2.39.0 has requirement azure-mgmt-containerregistry==8.2.0, but you'll have azure-mgmt-containerregistry 10.0.0 which is incompatible.\u001b[0m\n",
      "\u001b[31mERROR: azure-cli 2.39.0 has requirement azure-mgmt-keyvault==9.3.0, but you'll have azure-mgmt-keyvault 10.0.0 which is incompatible.\u001b[0m\n",
      "\u001b[31mERROR: azure-cli 2.39.0 has requirement azure-mgmt-network~=20.0.0, but you'll have azure-mgmt-network 21.0.1 which is incompatible.\u001b[0m\n",
      "\u001b[31mERROR: azure-cli 2.39.0 has requirement azure-mgmt-resource==21.1.0b1, but you'll have azure-mgmt-resource 21.1.0 which is incompatible.\u001b[0m\n",
      "\u001b[31mERROR: azure-cli 2.39.0 has requirement azure-mgmt-storage~=20.0.0, but you'll have azure-mgmt-storage 19.1.0 which is incompatible.\u001b[0m\n",
      "Installing collected packages: azureml-dataprep-rslex, azureml-dataprep, azure-mgmt-storage, mltable\n",
      "  Attempting uninstall: azureml-dataprep-rslex\n",
      "    Found existing installation: azureml-dataprep-rslex 2.8.1\n",
      "    Uninstalling azureml-dataprep-rslex-2.8.1:\n",
      "      Successfully uninstalled azureml-dataprep-rslex-2.8.1\n",
      "  Attempting uninstall: azureml-dataprep\n",
      "    Found existing installation: azureml-dataprep 4.2.2\n",
      "    Uninstalling azureml-dataprep-4.2.2:\n",
      "      Successfully uninstalled azureml-dataprep-4.2.2\n",
      "  Attempting uninstall: azure-mgmt-storage\n",
      "    Found existing installation: azure-mgmt-storage 20.0.0\n",
      "    Uninstalling azure-mgmt-storage-20.0.0:\n",
      "      Successfully uninstalled azure-mgmt-storage-20.0.0\n",
      "Successfully installed azure-mgmt-storage-19.1.0 azureml-dataprep-4.5.7 azureml-dataprep-rslex-2.11.4 mltable-0.1.0b4\n",
      "Note: you may need to restart the kernel to use updated packages.\n"
     ]
    }
   ],
   "source": [
    "%pip install graphdatascience\n",
    "%pip install azure-ai-ml\n",
    "%pip install azureml-mlflow\n",
    "%pip install mlflow\n",
    "%pip install mltable"
   ]
  },
  {
   "cell_type": "markdown",
   "metadata": {},
   "source": [
    "## Azure ML Connection\n",
    "Let's setup our Azure ML connection."
   ]
  },
  {
   "cell_type": "markdown",
   "metadata": {},
   "source": [
    "### Import the required libraries"
   ]
  },
  {
   "cell_type": "code",
   "execution_count": 2,
   "metadata": {},
   "outputs": [
    {
     "name": "stderr",
     "output_type": "stream",
     "text": [
      "Class SystemCreatedStorageAccount: This is an experimental class, and may change at any time. Please see https://aka.ms/azuremlexperimental for more information.\n",
      "Class SystemCreatedAcrAccount: This is an experimental class, and may change at any time. Please see https://aka.ms/azuremlexperimental for more information.\n"
     ]
    }
   ],
   "source": [
    "# Import required libraries\n",
    "from azure.identity import DefaultAzureCredential\n",
    "from azure.identity import AzureCliCredential\n",
    "from azure.ai.ml import automl, Input, MLClient\n",
    "\n",
    "from azure.ai.ml.constants import AssetTypes\n",
    "from azure.ai.ml.automl import (\n",
    "    classification,\n",
    "    ClassificationPrimaryMetrics,\n",
    "    ClassificationModels,\n",
    ")"
   ]
  },
  {
   "cell_type": "markdown",
   "metadata": {},
   "source": [
    "### Workspace details\n",
    "\n",
    "To connect to a workspace, we need identifier parameters - a subscription, resource group and workspace name. We will use these details in the `MLClient` from `azure.ai.ml` to get a handle to the required Azure Machine Learning workspace. We use the default [default azure authentication](https://docs.microsoft.com/en-us/python/api/azure-identity/azure.identity.defaultazurecredential?view=azure-python) for this tutorial. Check the [configuration notebook](../../configuration.ipynb) for more details on how to configure credentials and connect to a workspace.\n",
    "\n",
    "By default, we try to use the by default workspace configuration (available out-of-the-box in Compute Instances) or from any Config.json file you might have copied into the folders structure.\n",
    "If no Config.json is found, then you need to manually introduce the subscription_id, resource_group and workspace when creating MLClient ."
   ]
  },
  {
   "cell_type": "code",
   "execution_count": 3,
   "metadata": {},
   "outputs": [
    {
     "name": "stderr",
     "output_type": "stream",
     "text": [
      "Class RegistryOperations: This is an experimental class, and may change at any time. Please see https://aka.ms/azuremlexperimental for more information.\n"
     ]
    },
    {
     "name": "stdout",
     "output_type": "stream",
     "text": [
      "We could not find config.json in: . or in its parent directories. Please provide the full path to the config file or ensure that config.json exists in the parent directories.\n"
     ]
    }
   ],
   "source": [
    "credential = DefaultAzureCredential()\n",
    "ml_client = None\n",
    "try:\n",
    "    ml_client = MLClient.from_config(credential)\n",
    "except Exception as ex:\n",
    "    print(ex)\n",
    "    # Enter details of your AML workspace\n",
    "    subscription_id = \"4109ec49-0ff1-497c-b615-2de74128cf76\"\n",
    "    resource_group = \"ev-az-ws\"\n",
    "    workspace = \"azure-ml-ws\"\n",
    "    ml_client = MLClient(credential, subscription_id, resource_group, workspace)"
   ]
  },
  {
   "cell_type": "code",
   "execution_count": 4,
   "metadata": {},
   "outputs": [
    {
     "data": {
      "text/plain": [
       "{'Workspace': 'azure-ml-ws',\n",
       " 'Subscription ID': '4109ec49-0ff1-497c-b615-2de74128cf76',\n",
       " 'Resource Group': 'ev-az-ws',\n",
       " 'Location': 'southeastasia'}"
      ]
     },
     "execution_count": 4,
     "metadata": {},
     "output_type": "execute_result"
    }
   ],
   "source": [
    "workspace = ml_client.workspaces.get(name=ml_client.workspace_name)\n",
    "\n",
    "output = {}\n",
    "output[\"Workspace\"] = ml_client.workspace_name\n",
    "output[\"Subscription ID\"] = ml_client.connections._subscription_id\n",
    "output[\"Resource Group\"] = workspace.resource_group\n",
    "output[\"Location\"] = workspace.location\n",
    "output"
   ]
  },
  {
   "cell_type": "markdown",
   "metadata": {},
   "source": [
    "## Upload Training Data MLTable\n",
    "Now we're going to upload the training data Azureml"
   ]
  },
  {
   "cell_type": "code",
   "execution_count": 5,
   "metadata": {},
   "outputs": [],
   "source": [
    "# MLTable definition file\n",
    "with open('./data/training-mltable-folder/MLTable', 'w') as f:\n",
    "    f.write(\"\"\"\n",
    "        paths:\n",
    "            - file: ./train.csv\n",
    "        transformations:\n",
    "            - read_delimited:\n",
    "                    delimiter: ','\n",
    "                    encoding: 'ascii'\n",
    "    \"\"\")\n",
    "\n",
    "    # MLTable definition file\n",
    "with open('./data/test-mltable-folder/MLTable', 'w') as f:\n",
    "    f.write(\"\"\"\n",
    "        paths:\n",
    "            - file: ./test.csv\n",
    "        transformations:\n",
    "            - read_delimited:\n",
    "                    delimiter: ','\n",
    "                    encoding: 'ascii'\n",
    "    \"\"\")\n",
    "    \n",
    "# MLTable definition file\n",
    "with open('./data/validation-mltable-folder/MLTable', 'w') as f:\n",
    "    f.write(\"\"\"\n",
    "        paths:\n",
    "            - file: ./validate.csv\n",
    "        transformations:\n",
    "            - read_delimited:\n",
    "                    delimiter: ','\n",
    "                    encoding: 'ascii'\n",
    "    \"\"\")"
   ]
  },
  {
   "cell_type": "code",
   "execution_count": 6,
   "metadata": {},
   "outputs": [],
   "source": [
    "# Create MLTables for training dataset\n",
    "\n",
    "my_training_data_input = Input(\n",
    "    type=AssetTypes.MLTABLE, path=\"./data/training-mltable-folder\"\n",
    ")"
   ]
  },
  {
   "cell_type": "code",
   "execution_count": 7,
   "metadata": {},
   "outputs": [],
   "source": [
    "# General job parameters\n",
    "compute_name = \"azure-ml-compute\"\n",
    "max_trials = 5\n",
    "exp_name = \"asset-prediction-experiment\""
   ]
  },
  {
   "cell_type": "markdown",
   "metadata": {},
   "source": [
    "## Setting up the Classification Job\n",
    "After uploading the dataset, you can invoke AutoML to find the best ML pipeline to train a model on this dataset."
   ]
  },
  {
   "cell_type": "code",
   "execution_count": 8,
   "metadata": {},
   "outputs": [],
   "source": [
    "# Create the AutoML classification job with the related factory-function.\n",
    "\n",
    "classification_job = automl.classification(\n",
    "    compute=compute_name,\n",
    "    experiment_name=exp_name,\n",
    "    training_data=my_training_data_input,\n",
    "    target_column_name=\"target\",\n",
    "    primary_metric=\"accuracy\",\n",
    "    n_cross_validations=5,\n",
    "    enable_model_explainability=True,\n",
    "    tags={\"classification_task\": \"sec\"},\n",
    ")\n",
    "\n",
    "# Limits are all optional\n",
    "classification_job.set_limits(\n",
    "    timeout_minutes=600,\n",
    "    trial_timeout_minutes=20,\n",
    "    max_trials=max_trials,\n",
    "    # max_concurrent_trials = 4,\n",
    "    # max_cores_per_trial: -1,\n",
    "    enable_early_termination=True,\n",
    ")\n",
    "\n",
    "# Training properties are optional\n",
    "classification_job.set_training(\n",
    "    blocked_training_algorithms=[\"LogisticRegression\"],\n",
    "    enable_onnx_compatible_models=True,\n",
    ")"
   ]
  },
  {
   "cell_type": "code",
   "execution_count": 9,
   "metadata": {},
   "outputs": [
    {
     "name": "stderr",
     "output_type": "stream",
     "text": [
      "\u001b[32mUploading training-mltable-folder (60.77 MBs): 100%|██████████| 60769076/60769076 [00:06<00:00, 9135971.28it/s]\n",
      "\u001b[39m\n",
      "\n"
     ]
    },
    {
     "name": "stdout",
     "output_type": "stream",
     "text": [
      "Created job: ClassificationJob({'log_verbosity': <LogVerbosity.INFO: 'Info'>, 'target_column_name': 'target', 'weight_column_name': None, 'validation_data_size': None, 'cv_split_column_names': None, 'n_cross_validations': 5, 'test_data_size': None, 'task_type': <TaskType.CLASSIFICATION: 'Classification'>, 'training_data': {'type': 'mltable', 'path': 'azureml://datastores/workspaceblobstore/paths/LocalUpload/e0efeda771cb324242e1f787021ede4c/training-mltable-folder'}, 'validation_data': {'type': 'mltable'}, 'test_data': None, 'environment_id': None, 'environment_variables': None, 'outputs': {}, 'type': 'automl', 'status': 'NotStarted', 'log_files': None, 'name': 'kind_toe_xxlgp6yd6s', 'description': None, 'tags': {'classification_task': 'sec'}, 'properties': {}, 'id': '/subscriptions/4109ec49-0ff1-497c-b615-2de74128cf76/resourceGroups/ev-az-ws/providers/Microsoft.MachineLearningServices/workspaces/azure-ml-ws/jobs/kind_toe_xxlgp6yd6s', 'Resource__source_path': None, 'base_path': '/mnt/batch/tasks/shared/LS_root/mounts/clusters/azure-ml-compute/code/Users/ezhil.vezhavendhan/notebooks/Lab 6 - Graph Data Science', 'creation_context': <azure.ai.ml._restclient.v2022_10_01_preview.models._models_py3.SystemData object at 0x7fddb0de7a90>, 'serialize': <msrest.serialization.Serializer object at 0x7fdd9a1af8e0>, 'inputs': {}, 'display_name': 'kind_toe_xxlgp6yd6s', 'experiment_name': 'asset-prediction-experiment', 'compute': 'azure-ml-compute', 'services': {'Tracking': <azure.ai.ml._restclient.v2022_10_01_preview.models._models_py3.JobService object at 0x7fddb0de7ca0>, 'Studio': <azure.ai.ml._restclient.v2022_10_01_preview.models._models_py3.JobService object at 0x7fddb0de7cd0>}, 'resources': <azure.ai.ml._restclient.v2022_10_01_preview.models._models_py3.JobResourceConfiguration object at 0x7fddb0de7c10>, 'identity': None, 'featurization': None, 'limits': <azure.ai.ml.entities._job.automl.tabular.limit_settings.TabularLimitSettings object at 0x7fddb0e2b640>, 'training': <azure.ai.ml.entities._job.automl.training_settings.ClassificationTrainingSettings object at 0x7fddb0e2b760>, 'primary_metric': <ClassificationPrimaryMetrics.ACCURACY: 'Accuracy'>, 'positive_label': None})\n"
     ]
    }
   ],
   "source": [
    "# Submit the AutoML job (CDLTLL: Is it ml_client.create_or_update(classification_job))\n",
    "returned_job = ml_client.jobs.create_or_update(\n",
    "    classification_job\n",
    ")  # submit the job to the backend\n",
    "\n",
    "print(f\"Created job: {returned_job}\")\n",
    "\n",
    "# Get a URL for the status of the job\n",
    "# returned_job.services[\"Studio\"].endpoint"
   ]
  },
  {
   "cell_type": "markdown",
   "metadata": {},
   "source": [
    "## Launching the AutoML Job"
   ]
  },
  {
   "cell_type": "markdown",
   "metadata": {},
   "source": [
    "This job is going to take close to 30 minutes. At this point, you might want to set the rest of this notebook to run and move on to \"Lab 7 - Cleanup.\"  At this point you can delete your Neo4j deployment without impacting the running AutoML job."
   ]
  },
  {
   "cell_type": "code",
   "execution_count": 10,
   "metadata": {},
   "outputs": [
    {
     "name": "stdout",
     "output_type": "stream",
     "text": [
      "RunId: kind_toe_xxlgp6yd6s\n",
      "Web View: https://ml.azure.com/runs/kind_toe_xxlgp6yd6s?wsid=/subscriptions/4109ec49-0ff1-497c-b615-2de74128cf76/resourcegroups/ev-az-ws/workspaces/azure-ml-ws\n",
      "\n",
      "Execution Summary\n",
      "=================\n",
      "RunId: kind_toe_xxlgp6yd6s\n",
      "Web View: https://ml.azure.com/runs/kind_toe_xxlgp6yd6s?wsid=/subscriptions/4109ec49-0ff1-497c-b615-2de74128cf76/resourcegroups/ev-az-ws/workspaces/azure-ml-ws\n",
      "\n"
     ]
    }
   ],
   "source": [
    "ml_client.jobs.stream(returned_job.name)"
   ]
  },
  {
   "cell_type": "code",
   "execution_count": 11,
   "metadata": {},
   "outputs": [
    {
     "data": {
      "text/plain": [
       "'https://ml.azure.com/runs/kind_toe_xxlgp6yd6s?wsid=/subscriptions/4109ec49-0ff1-497c-b615-2de74128cf76/resourcegroups/ev-az-ws/workspaces/azure-ml-ws&tid=54e85725-ed2a-49a4-a19e-11c8d29f9a0f'"
      ]
     },
     "execution_count": 11,
     "metadata": {},
     "output_type": "execute_result"
    }
   ],
   "source": [
    "# Get a URL for the status of the job\n",
    "returned_job.services[\"Studio\"].endpoint"
   ]
  },
  {
   "cell_type": "code",
   "execution_count": 12,
   "metadata": {},
   "outputs": [
    {
     "name": "stdout",
     "output_type": "stream",
     "text": [
      "kind_toe_xxlgp6yd6s\n"
     ]
    }
   ],
   "source": [
    "print(returned_job.name)"
   ]
  },
  {
   "cell_type": "markdown",
   "metadata": {},
   "source": [
    "# It's optional to proceed to the sections below"
   ]
  },
  {
   "cell_type": "markdown",
   "metadata": {},
   "source": [
    "## Retrieve the Best Trial (Best Model's trial/run)\n",
    "Use the MLFLowClient to access the results (such as Models, Artifacts, Metrics) of a previously completed AutoML Trial.\n",
    "\n",
    "## Initialize MLFlow Client\n",
    "The models and artifacts that are produced by AutoML can be accessed via the MLFlow interface. \n",
    "Initialize the MLFlow client here, and set the backend as Azure ML, via. the MLFlow Client.\n",
    "\n",
    "*IMPORTANT*, you need to have installed the latest MLFlow packages with:\n",
    "\n",
    "    pip install azureml-mlflow\n",
    "\n",
    "    pip install mlflow\n",
    "\n",
    "### Obtain the tracking URI for MLFlow"
   ]
  },
  {
   "cell_type": "code",
   "execution_count": 13,
   "metadata": {},
   "outputs": [
    {
     "name": "stdout",
     "output_type": "stream",
     "text": [
      "azureml://southeastasia.api.azureml.ms/mlflow/v1.0/subscriptions/4109ec49-0ff1-497c-b615-2de74128cf76/resourceGroups/ev-az-ws/providers/Microsoft.MachineLearningServices/workspaces/azure-ml-ws\n"
     ]
    }
   ],
   "source": [
    "import mlflow\n",
    "\n",
    "# Obtain the tracking URL from MLClient\n",
    "MLFLOW_TRACKING_URI = ml_client.workspaces.get(\n",
    "    name=ml_client.workspace_name\n",
    ").mlflow_tracking_uri\n",
    "\n",
    "print(MLFLOW_TRACKING_URI)"
   ]
  },
  {
   "cell_type": "code",
   "execution_count": 14,
   "metadata": {},
   "outputs": [
    {
     "name": "stdout",
     "output_type": "stream",
     "text": [
      "\n",
      "Current tracking uri: azureml://southeastasia.api.azureml.ms/mlflow/v1.0/subscriptions/4109ec49-0ff1-497c-b615-2de74128cf76/resourceGroups/ev-az-ws/providers/Microsoft.MachineLearningServices/workspaces/azure-ml-ws\n"
     ]
    }
   ],
   "source": [
    "# Set the MLFLOW TRACKING URI\n",
    "\n",
    "mlflow.set_tracking_uri(MLFLOW_TRACKING_URI)\n",
    "\n",
    "print(\"\\nCurrent tracking uri: {}\".format(mlflow.get_tracking_uri()))"
   ]
  },
  {
   "cell_type": "code",
   "execution_count": 15,
   "metadata": {},
   "outputs": [],
   "source": [
    "from mlflow.tracking.client import MlflowClient\n",
    "\n",
    "# Initialize MLFlow client\n",
    "mlflow_client = MlflowClient()"
   ]
  },
  {
   "cell_type": "markdown",
   "metadata": {},
   "source": [
    "### Get the AutoML parent Job"
   ]
  },
  {
   "cell_type": "code",
   "execution_count": 16,
   "metadata": {},
   "outputs": [
    {
     "name": "stdout",
     "output_type": "stream",
     "text": [
      "Parent Run: \n",
      "<Run: data=<RunData: metrics={'AUC_macro': 0.7207708808230493,\n",
      " 'AUC_micro': 0.7481093473680807,\n",
      " 'AUC_weighted': 0.7207708808230491,\n",
      " 'accuracy': 0.6805897999454622,\n",
      " 'average_precision_score_macro': 0.7197956082144596,\n",
      " 'average_precision_score_micro': 0.7497792135317148,\n",
      " 'average_precision_score_weighted': 0.7366045864206219,\n",
      " 'balanced_accuracy': 0.6218805508469197,\n",
      " 'f1_score_macro': 0.615276180952615,\n",
      " 'f1_score_micro': 0.6805897999454622,\n",
      " 'f1_score_weighted': 0.6481623507965925,\n",
      " 'log_loss': 0.5860737950122005,\n",
      " 'matthews_correlation': 0.30290655261521593,\n",
      " 'norm_macro_recall': 0.2437611016938393,\n",
      " 'precision_score_macro': 0.6882082509123618,\n",
      " 'precision_score_micro': 0.6805897999454622,\n",
      " 'precision_score_weighted': 0.6856571778896907,\n",
      " 'recall_score_macro': 0.6218805508469197,\n",
      " 'recall_score_micro': 0.6805897999454622,\n",
      " 'recall_score_weighted': 0.6805897999454622,\n",
      " 'weighted_accuracy': 0.7344501599647202}, params={}, tags={'automl_best_child_run_id': 'kind_toe_xxlgp6yd6s_4',\n",
      " 'classification_task': 'sec',\n",
      " 'fit_time': '',\n",
      " 'iteration': '',\n",
      " 'mlflow.rootRunId': 'kind_toe_xxlgp6yd6s',\n",
      " 'mlflow.runName': 'kind_toe_xxlgp6yd6s',\n",
      " 'mlflow.user': 'Ezhil Vezhavendhan',\n",
      " 'model_explain_best_run_child_id': 'kind_toe_xxlgp6yd6s_4',\n",
      " 'model_explain_run': 'best_run',\n",
      " 'pipeline_id': '',\n",
      " 'predicted_cost': '',\n",
      " 'run_algorithm': '',\n",
      " 'run_preprocessor': '',\n",
      " 'score': '',\n",
      " 'training_percent': ''}>, info=<RunInfo: artifact_uri='azureml://experiments/asset-prediction-experiment/runs/kind_toe_xxlgp6yd6s/artifacts', end_time=1666328317168, experiment_id='0b0c16f4-1d12-462b-891e-110e931c37f5', lifecycle_stage='active', run_id='kind_toe_xxlgp6yd6s', run_uuid='kind_toe_xxlgp6yd6s', start_time=1666326360765, status='FINISHED', user_id='374e1cf7-a5c7-4cc0-8fa9-7a5326e69453'>>\n"
     ]
    }
   ],
   "source": [
    "job_name = returned_job.name\n",
    "\n",
    "# Example if providing an specific Job name/ID\n",
    "# job_name = \"b4e95546-0aa1-448e-9ad6-002e3207b4fc\"\n",
    "\n",
    "# Get the parent run\n",
    "mlflow_parent_run = mlflow_client.get_run(job_name)\n",
    "\n",
    "print(\"Parent Run: \")\n",
    "print(mlflow_parent_run)"
   ]
  },
  {
   "cell_type": "code",
   "execution_count": 17,
   "metadata": {},
   "outputs": [
    {
     "name": "stdout",
     "output_type": "stream",
     "text": [
      "{'classification_task': 'sec', 'model_explain_run': 'best_run', 'pipeline_id': '', 'score': '', 'predicted_cost': '', 'fit_time': '', 'training_percent': '', 'iteration': '', 'run_preprocessor': '', 'run_algorithm': '', 'automl_best_child_run_id': 'kind_toe_xxlgp6yd6s_4', 'model_explain_best_run_child_id': 'kind_toe_xxlgp6yd6s_4', 'mlflow.rootRunId': 'kind_toe_xxlgp6yd6s', 'mlflow.runName': 'kind_toe_xxlgp6yd6s', 'mlflow.user': 'Ezhil Vezhavendhan'}\n"
     ]
    }
   ],
   "source": [
    "# Print parent run tags. 'automl_best_child_run_id' tag should be there.\n",
    "print(mlflow_parent_run.data.tags)"
   ]
  },
  {
   "cell_type": "markdown",
   "metadata": {},
   "source": [
    "## Get the AutoML best child run"
   ]
  },
  {
   "cell_type": "code",
   "execution_count": 18,
   "metadata": {},
   "outputs": [
    {
     "name": "stdout",
     "output_type": "stream",
     "text": [
      "Found best child run id:  kind_toe_xxlgp6yd6s_4\n",
      "Best child run: \n",
      "<Run: data=<RunData: metrics={'AUC_macro': 0.7207708808230493,\n",
      " 'AUC_micro': 0.7481093473680807,\n",
      " 'AUC_weighted': 0.7207708808230491,\n",
      " 'accuracy': 0.6805897999454622,\n",
      " 'average_precision_score_macro': 0.7197956082144596,\n",
      " 'average_precision_score_micro': 0.7497792135317148,\n",
      " 'average_precision_score_weighted': 0.7366045864206219,\n",
      " 'balanced_accuracy': 0.6218805508469197,\n",
      " 'f1_score_macro': 0.615276180952615,\n",
      " 'f1_score_micro': 0.6805897999454622,\n",
      " 'f1_score_weighted': 0.6481623507965925,\n",
      " 'log_loss': 0.5860737950122005,\n",
      " 'matthews_correlation': 0.30290655261521593,\n",
      " 'norm_macro_recall': 0.2437611016938393,\n",
      " 'precision_score_macro': 0.6882082509123618,\n",
      " 'precision_score_micro': 0.6805897999454622,\n",
      " 'precision_score_weighted': 0.6856571778896907,\n",
      " 'recall_score_macro': 0.6218805508469197,\n",
      " 'recall_score_micro': 0.6805897999454622,\n",
      " 'recall_score_weighted': 0.6805897999454622,\n",
      " 'weighted_accuracy': 0.7344501599647202}, params={}, tags={'mlflow.parentRunId': 'kind_toe_xxlgp6yd6s',\n",
      " 'mlflow.rootRunId': 'kind_toe_xxlgp6yd6s',\n",
      " 'mlflow.runName': 'yellow_night_92y2w2jj',\n",
      " 'mlflow.source.name': 'automl_driver.py',\n",
      " 'mlflow.source.type': 'JOB',\n",
      " 'mlflow.user': 'Ezhil Vezhavendhan',\n",
      " 'model_explain_run_id': 'kind_toe_xxlgp6yd6s_ModelExplain',\n",
      " 'model_explanation': 'True'}>, info=<RunInfo: artifact_uri='azureml://experiments/asset-prediction-experiment/runs/kind_toe_xxlgp6yd6s_4/artifacts', end_time=1666328315909, experiment_id='0b0c16f4-1d12-462b-891e-110e931c37f5', lifecycle_stage='active', run_id='kind_toe_xxlgp6yd6s_4', run_uuid='kind_toe_xxlgp6yd6s_4', start_time=1666328219191, status='FINISHED', user_id='374e1cf7-a5c7-4cc0-8fa9-7a5326e69453'>>\n"
     ]
    }
   ],
   "source": [
    "# Get the best model's child run\n",
    "\n",
    "best_child_run_id = mlflow_parent_run.data.tags[\"automl_best_child_run_id\"]\n",
    "print(\"Found best child run id: \", best_child_run_id)\n",
    "\n",
    "best_run = mlflow_client.get_run(best_child_run_id)\n",
    "\n",
    "print(\"Best child run: \")\n",
    "print(best_run)"
   ]
  },
  {
   "cell_type": "markdown",
   "metadata": {},
   "source": [
    "## Get best model run's metrics\n",
    "\n",
    "Access the results (such as Models, Artifacts, Metrics) of a previously completed AutoML Run."
   ]
  },
  {
   "cell_type": "code",
   "execution_count": 19,
   "metadata": {},
   "outputs": [
    {
     "data": {
      "text/plain": [
       "{'f1_score_micro': 0.6805897999454622,\n",
       " 'balanced_accuracy': 0.6218805508469197,\n",
       " 'AUC_weighted': 0.7207708808230491,\n",
       " 'AUC_micro': 0.7481093473680807,\n",
       " 'precision_score_macro': 0.6882082509123618,\n",
       " 'recall_score_micro': 0.6805897999454622,\n",
       " 'norm_macro_recall': 0.2437611016938393,\n",
       " 'recall_score_weighted': 0.6805897999454622,\n",
       " 'precision_score_micro': 0.6805897999454622,\n",
       " 'f1_score_macro': 0.615276180952615,\n",
       " 'accuracy': 0.6805897999454622,\n",
       " 'f1_score_weighted': 0.6481623507965925,\n",
       " 'matthews_correlation': 0.30290655261521593,\n",
       " 'precision_score_weighted': 0.6856571778896907,\n",
       " 'average_precision_score_macro': 0.7197956082144596,\n",
       " 'average_precision_score_micro': 0.7497792135317148,\n",
       " 'weighted_accuracy': 0.7344501599647202,\n",
       " 'average_precision_score_weighted': 0.7366045864206219,\n",
       " 'log_loss': 0.5860737950122005,\n",
       " 'recall_score_macro': 0.6218805508469197,\n",
       " 'AUC_macro': 0.7207708808230493}"
      ]
     },
     "execution_count": 19,
     "metadata": {},
     "output_type": "execute_result"
    }
   ],
   "source": [
    "best_run.data.metrics"
   ]
  },
  {
   "cell_type": "markdown",
   "metadata": {},
   "source": [
    "## Download the best model locally\n",
    "\n",
    "Access the results (such as Models, Artifacts, Metrics) of a previously completed AutoML Run."
   ]
  },
  {
   "cell_type": "code",
   "execution_count": 20,
   "metadata": {},
   "outputs": [],
   "source": [
    "import os\n",
    "\n",
    "# Create local folder\n",
    "local_dir = \"./artifact_downloads\"\n",
    "if not os.path.exists(local_dir):\n",
    "    os.mkdir(local_dir)"
   ]
  },
  {
   "cell_type": "code",
   "execution_count": 21,
   "metadata": {},
   "outputs": [
    {
     "name": "stdout",
     "output_type": "stream",
     "text": [
      "Artifacts downloaded in: /mnt/batch/tasks/shared/LS_root/mounts/clusters/azure-ml-compute/code/Users/ezhil.vezhavendhan/notebooks/Lab 6 - Graph Data Science/artifact_downloads/outputs\n",
      "Artifacts: ['conda_env_v_1_0_0.yml', 'engineered_feature_names.json', 'env_dependencies.json', 'featurization_summary.json', 'generated_code', 'internal_cross_validated_models.pkl', 'mlflow-model', 'model.pkl', 'pipeline_graph.json', 'run_id.txt', 'scoring_file_pbi_v_1_0_0.py', 'scoring_file_v_1_0_0.py', 'scoring_file_v_2_0_0.py']\n"
     ]
    }
   ],
   "source": [
    "# Download run's artifacts/outputs\n",
    "local_path = mlflow_client.download_artifacts(\n",
    "    best_run.info.run_id, \"outputs\", local_dir\n",
    ")\n",
    "print(\"Artifacts downloaded in: {}\".format(local_path))\n",
    "print(\"Artifacts: {}\".format(os.listdir(local_path)))"
   ]
  },
  {
   "cell_type": "code",
   "execution_count": 22,
   "metadata": {},
   "outputs": [
    {
     "data": {
      "text/plain": [
       "['conda.yaml', 'MLmodel', 'model.pkl', 'python_env.yaml', 'requirements.txt']"
      ]
     },
     "execution_count": 22,
     "metadata": {},
     "output_type": "execute_result"
    }
   ],
   "source": [
    "# Show the contents of the MLFlow model folder\n",
    "os.listdir(\"./artifact_downloads/outputs/mlflow-model\")"
   ]
  },
  {
   "cell_type": "markdown",
   "metadata": {},
   "source": [
    "## Register Best Model and Deploy\n",
    "### Create managed online endpoint"
   ]
  },
  {
   "cell_type": "code",
   "execution_count": 23,
   "metadata": {},
   "outputs": [],
   "source": [
    "# import required libraries\n",
    "from azure.ai.ml.entities import (\n",
    "    ManagedOnlineEndpoint,\n",
    "    ManagedOnlineDeployment,\n",
    "    Model,\n",
    "    Environment,\n",
    "    CodeConfiguration,\n",
    "    ProbeSettings,\n",
    ")\n",
    "from azure.ai.ml.constants import ModelType"
   ]
  },
  {
   "cell_type": "code",
   "execution_count": 24,
   "metadata": {},
   "outputs": [],
   "source": [
    "# Creating a unique endpoint name with current datetime to avoid conflicts\n",
    "import datetime\n",
    "\n",
    "online_endpoint_name = \"asset-prediction-\" + datetime.datetime.now().strftime(\"%m%d%H%M%f\")\n",
    "\n",
    "# create an online endpoint\n",
    "endpoint = ManagedOnlineEndpoint(\n",
    "    name=online_endpoint_name,\n",
    "    description=\"Asset Prediction endpoint for mlflow model\",\n",
    "    auth_mode=\"key\",\n",
    "    tags={\"lab\": \"neo4j\"},\n",
    ")"
   ]
  },
  {
   "cell_type": "code",
   "execution_count": 25,
   "metadata": {},
   "outputs": [
    {
     "data": {
      "text/plain": [
       "ManagedOnlineEndpoint({'public_network_access': 'Enabled', 'provisioning_state': 'Succeeded', 'scoring_uri': 'https://asset-prediction-10210502764044.southeastasia.inference.ml.azure.com/score', 'openapi_uri': 'https://asset-prediction-10210502764044.southeastasia.inference.ml.azure.com/swagger.json', 'name': 'asset-prediction-10210502764044', 'description': 'Asset Prediction endpoint for mlflow model', 'tags': {'lab': 'neo4j', 'Owner Department': 'Business Development'}, 'properties': {'azureml.onlineendpointid': '/subscriptions/4109ec49-0ff1-497c-b615-2de74128cf76/resourcegroups/ev-az-ws/providers/microsoft.machinelearningservices/workspaces/azure-ml-ws/onlineendpoints/asset-prediction-10210502764044', 'AzureAsyncOperationUri': 'https://management.azure.com/subscriptions/4109ec49-0ff1-497c-b615-2de74128cf76/providers/Microsoft.MachineLearningServices/locations/southeastasia/mfeOperationsStatus/oe:bdd85ba3-69b9-4e0b-b707-4a0160c03dbb:c855adfe-f86c-416a-a2e2-9be8b127097f?api-version=2022-02-01-preview'}, 'id': '/subscriptions/4109ec49-0ff1-497c-b615-2de74128cf76/resourceGroups/ev-az-ws/providers/Microsoft.MachineLearningServices/workspaces/azure-ml-ws/onlineEndpoints/asset-prediction-10210502764044', 'Resource__source_path': None, 'base_path': '/mnt/batch/tasks/shared/LS_root/mounts/clusters/azure-ml-compute/code/Users/ezhil.vezhavendhan/notebooks/Lab 6 - Graph Data Science', 'creation_context': None, 'serialize': <msrest.serialization.Serializer object at 0x7fdd91ad4d60>, 'auth_mode': 'key', 'location': 'southeastasia', 'identity': <azure.ai.ml.entities._credentials.IdentityConfiguration object at 0x7fdd91ad4ee0>, 'traffic': {}, 'mirror_traffic': {}, 'kind': 'Managed'})"
      ]
     },
     "execution_count": 25,
     "metadata": {},
     "output_type": "execute_result"
    }
   ],
   "source": [
    "ml_client.begin_create_or_update(endpoint).result()"
   ]
  },
  {
   "cell_type": "markdown",
   "metadata": {},
   "source": [
    "### Register best model and deploy"
   ]
  },
  {
   "cell_type": "code",
   "execution_count": 26,
   "metadata": {},
   "outputs": [],
   "source": [
    "model_name = \"asset-prediction-model\"\n",
    "model = Model(\n",
    "    path=f\"azureml://jobs/{best_run.info.run_id}/outputs/artifacts/outputs/model.pkl\",\n",
    "    name=model_name,\n",
    "    description=\"GDS mlflow model\",\n",
    ")\n",
    "\n",
    "# for downloaded file\n",
    "# model = Model(path=\"artifact_downloads/outputs/model.pkl\", name=model_name)\n",
    "\n",
    "registered_model = ml_client.models.create_or_update(model)"
   ]
  },
  {
   "cell_type": "code",
   "execution_count": 27,
   "metadata": {},
   "outputs": [
    {
     "data": {
      "text/plain": [
       "'/subscriptions/4109ec49-0ff1-497c-b615-2de74128cf76/resourceGroups/ev-az-ws/providers/Microsoft.MachineLearningServices/workspaces/azure-ml-ws/models/asset-prediction-model/versions/1'"
      ]
     },
     "execution_count": 27,
     "metadata": {},
     "output_type": "execute_result"
    }
   ],
   "source": [
    "registered_model.id"
   ]
  },
  {
   "cell_type": "markdown",
   "metadata": {},
   "source": [
    "#### Configure environment and code configuration"
   ]
  },
  {
   "cell_type": "code",
   "execution_count": 28,
   "metadata": {},
   "outputs": [],
   "source": [
    "env = Environment(\n",
    "    name=\"automl-tabular-env\",\n",
    "    description=\"environment for automl inference\",\n",
    "    image=\"mcr.microsoft.com/azureml/openmpi3.1.2-ubuntu18.04:20210727.v1\",\n",
    "    conda_file=\"artifact_downloads/outputs/conda_env_v_1_0_0.yml\",\n",
    ")"
   ]
  },
  {
   "cell_type": "code",
   "execution_count": 29,
   "metadata": {},
   "outputs": [],
   "source": [
    "code_configuration = CodeConfiguration(\n",
    "    code=\"artifact_downloads/outputs/\", scoring_script=\"scoring_file_v_2_0_0.py\"\n",
    ")"
   ]
  },
  {
   "cell_type": "markdown",
   "metadata": {},
   "source": [
    "#### Deploy"
   ]
  },
  {
   "cell_type": "code",
   "execution_count": 30,
   "metadata": {},
   "outputs": [],
   "source": [
    "deployment = ManagedOnlineDeployment(\n",
    "    name=\"asset-prediction-deploy\",\n",
    "    endpoint_name=online_endpoint_name,\n",
    "    model=registered_model.id,\n",
    "    environment=env,\n",
    "    code_configuration=code_configuration,\n",
    "    instance_type=\"Standard_DS2_V2\",\n",
    "    instance_count=1,\n",
    ")"
   ]
  },
  {
   "cell_type": "code",
   "execution_count": 31,
   "metadata": {},
   "outputs": [
    {
     "name": "stderr",
     "output_type": "stream",
     "text": [
      "Check: endpoint asset-prediction-10210502764044 exists\n",
      "\u001b[32mUploading outputs (35.32 MBs): 100%|██████████| 35321588/35321588 [00:00<00:00, 57709258.77it/s]\n",
      "\u001b[39m\n",
      "\n",
      "data_collector is not a known attribute of class <class 'azure.ai.ml._restclient.v2022_02_01_preview.models._models_py3.ManagedOnlineDeployment'> and will be ignored\n"
     ]
    },
    {
     "name": "stdout",
     "output_type": "stream",
     "text": [
      "................................................................................................................................................................................................................................................................................"
     ]
    },
    {
     "data": {
      "text/plain": [
       "ManagedOnlineDeployment({'private_network_connection': False, 'data_collector': None, 'provisioning_state': 'Succeeded', 'endpoint_name': 'asset-prediction-10210502764044', 'type': 'Managed', 'name': 'asset-prediction-deploy', 'description': None, 'tags': {'Owner Department': 'Business Development'}, 'properties': {'AzureAsyncOperationUri': 'https://management.azure.com/subscriptions/4109ec49-0ff1-497c-b615-2de74128cf76/providers/Microsoft.MachineLearningServices/locations/southeastasia/mfeOperationsStatus/od:bdd85ba3-69b9-4e0b-b707-4a0160c03dbb:698cdd9c-8ac1-41b3-9eef-96d91e91f8f1?api-version=2022-02-01-preview'}, 'id': '/subscriptions/4109ec49-0ff1-497c-b615-2de74128cf76/resourceGroups/ev-az-ws/providers/Microsoft.MachineLearningServices/workspaces/azure-ml-ws/onlineEndpoints/asset-prediction-10210502764044/deployments/asset-prediction-deploy', 'Resource__source_path': None, 'base_path': '/mnt/batch/tasks/shared/LS_root/mounts/clusters/azure-ml-compute/code/Users/ezhil.vezhavendhan/notebooks/Lab 6 - Graph Data Science', 'creation_context': None, 'serialize': <msrest.serialization.Serializer object at 0x7fdd91ac6c10>, 'model': '/subscriptions/4109ec49-0ff1-497c-b615-2de74128cf76/resourceGroups/ev-az-ws/providers/Microsoft.MachineLearningServices/workspaces/azure-ml-ws/models/asset-prediction-model/versions/1', 'code_configuration': <azure.ai.ml.entities._deployment.code_configuration.CodeConfiguration object at 0x7fdd91b24a30>, 'environment': '/subscriptions/4109ec49-0ff1-497c-b615-2de74128cf76/resourceGroups/ev-az-ws/providers/Microsoft.MachineLearningServices/workspaces/azure-ml-ws/environments/automl-tabular-env/versions/1', 'environment_variables': {}, 'app_insights_enabled': False, 'scale_settings': <azure.ai.ml.entities._deployment.scale_settings.DefaultScaleSettings object at 0x7fdd91a7fd30>, 'request_settings': <azure.ai.ml.entities._deployment.deployment_settings.OnlineRequestSettings object at 0x7fdd91b24820>, 'liveness_probe': <azure.ai.ml.entities._deployment.deployment_settings.ProbeSettings object at 0x7fdd91a7fe50>, 'readiness_probe': <azure.ai.ml.entities._deployment.deployment_settings.ProbeSettings object at 0x7fdd91a7ff70>, 'instance_count': 1, 'arm_type': 'online_deployment', 'model_mount_path': None, 'instance_type': 'Standard_DS2_V2', 'egress_public_network_access': 'Enabled'})"
      ]
     },
     "execution_count": 31,
     "metadata": {},
     "output_type": "execute_result"
    }
   ],
   "source": [
    "ml_client.online_deployments.begin_create_or_update(deployment).result()"
   ]
  },
  {
   "cell_type": "code",
   "execution_count": 32,
   "metadata": {},
   "outputs": [
    {
     "data": {
      "text/plain": [
       "ManagedOnlineEndpoint({'public_network_access': 'Enabled', 'provisioning_state': 'Succeeded', 'scoring_uri': 'https://asset-prediction-10210502764044.southeastasia.inference.ml.azure.com/score', 'openapi_uri': 'https://asset-prediction-10210502764044.southeastasia.inference.ml.azure.com/swagger.json', 'name': 'asset-prediction-10210502764044', 'description': 'Asset Prediction endpoint for mlflow model', 'tags': {'lab': 'neo4j', 'Owner Department': 'Business Development'}, 'properties': {'azureml.onlineendpointid': '/subscriptions/4109ec49-0ff1-497c-b615-2de74128cf76/resourcegroups/ev-az-ws/providers/microsoft.machinelearningservices/workspaces/azure-ml-ws/onlineendpoints/asset-prediction-10210502764044', 'AzureAsyncOperationUri': 'https://management.azure.com/subscriptions/4109ec49-0ff1-497c-b615-2de74128cf76/providers/Microsoft.MachineLearningServices/locations/southeastasia/mfeOperationsStatus/oe:bdd85ba3-69b9-4e0b-b707-4a0160c03dbb:e09f4c48-3530-44d6-98e8-4995789bee9a?api-version=2022-02-01-preview'}, 'id': '/subscriptions/4109ec49-0ff1-497c-b615-2de74128cf76/resourceGroups/ev-az-ws/providers/Microsoft.MachineLearningServices/workspaces/azure-ml-ws/onlineEndpoints/asset-prediction-10210502764044', 'Resource__source_path': None, 'base_path': '/mnt/batch/tasks/shared/LS_root/mounts/clusters/azure-ml-compute/code/Users/ezhil.vezhavendhan/notebooks/Lab 6 - Graph Data Science', 'creation_context': None, 'serialize': <msrest.serialization.Serializer object at 0x7fdd91a75790>, 'auth_mode': 'key', 'location': 'southeastasia', 'identity': <azure.ai.ml.entities._credentials.IdentityConfiguration object at 0x7fdd91a757c0>, 'traffic': {'asset-prediction-deploy': 100}, 'mirror_traffic': {}, 'kind': 'Managed'})"
      ]
     },
     "execution_count": 32,
     "metadata": {},
     "output_type": "execute_result"
    }
   ],
   "source": [
    "# asset-prediction deployment to take 100% traffic\n",
    "endpoint.traffic = {\"asset-prediction-deploy\": 100}\n",
    "ml_client.begin_create_or_update(endpoint).result()"
   ]
  },
  {
   "cell_type": "markdown",
   "metadata": {},
   "source": [
    "### Test the deployment"
   ]
  },
  {
   "cell_type": "code",
   "execution_count": 39,
   "metadata": {},
   "outputs": [
    {
     "data": {
      "text/plain": [
       "'{\"Results\": [true, false, false, false, false, false, false, false, false, false, false, false, true, false, false, false, false, false, false, false]}'"
      ]
     },
     "execution_count": 39,
     "metadata": {},
     "output_type": "execute_result"
    }
   ],
   "source": [
    "# test the blue deployment with some sample data\n",
    "import pandas as pd\n",
    "\n",
    "test_data = pd.read_csv(\"./data/test-mltable-folder/test.csv\").head(20)\n",
    "\n",
    "test_data_json = test_data.to_json(orient=\"records\", indent=4)\n",
    "data = (\n",
    "    '{ \\\n",
    "          \"Inputs\": {\"data\": '\n",
    "    + test_data_json\n",
    "    + '}, \\\n",
    "          \"GlobalParameters\": { \"method\": \"predict\" } \\\n",
    "        }'\n",
    ")\n",
    "\n",
    "request_file_name = \"test-request.json\"\n",
    "\n",
    "with open(request_file_name, \"w\") as request_file:\n",
    "    request_file.write(data)\n",
    "\n",
    "ml_client.online_endpoints.invoke(\n",
    "    endpoint_name=online_endpoint_name,\n",
    "    deployment_name=\"asset-prediction-deploy\",\n",
    "    request_file=request_file_name,\n",
    ")"
   ]
  },
  {
   "cell_type": "markdown",
   "metadata": {},
   "source": [
    "### Get endpoint details"
   ]
  },
  {
   "cell_type": "code",
   "execution_count": 40,
   "metadata": {},
   "outputs": [
    {
     "name": "stdout",
     "output_type": "stream",
     "text": [
      "{'asset-prediction-deploy': 100}\n",
      "https://asset-prediction-10210502764044.southeastasia.inference.ml.azure.com/score\n"
     ]
    }
   ],
   "source": [
    "# Get the details for online endpoint\n",
    "endpoint = ml_client.online_endpoints.get(name=online_endpoint_name)\n",
    "\n",
    "# existing traffic details\n",
    "print(endpoint.traffic)\n",
    "\n",
    "# Get the scoring URI\n",
    "print(endpoint.scoring_uri)"
   ]
  },
  {
   "cell_type": "code",
   "execution_count": null,
   "metadata": {},
   "outputs": [
    {
     "name": "stdout",
     "output_type": "stream",
     "text": [
      "............................................"
     ]
    }
   ],
   "source": [
    "### Delete the deploy\n",
    "ml_client.online_endpoints.begin_delete(name=online_endpoint_name).wait()"
   ]
  },
  {
   "cell_type": "markdown",
   "metadata": {},
   "source": []
  }
 ],
 "metadata": {
  "colab": {
   "name": "embedding.ipynb",
   "provenance": [],
   "toc_visible": true
  },
  "instance_type": "ml.t3.medium",
  "kernelspec": {
   "display_name": "Python 3 (ipykernel)",
   "language": "python",
   "name": "python3"
  },
  "language_info": {
   "codemirror_mode": {
    "name": "ipython",
    "version": 3
   },
   "file_extension": ".py",
   "mimetype": "text/x-python",
   "name": "python",
   "nbconvert_exporter": "python",
   "pygments_lexer": "ipython3",
   "version": "3.9.6"
  },
  "vscode": {
   "interpreter": {
    "hash": "31f2aee4e71d21fbe5cf8b01ff0e069b9275f58929596ceb00d14d90e3e16cd6"
   }
  }
 },
 "nbformat": 4,
 "nbformat_minor": 4
}
