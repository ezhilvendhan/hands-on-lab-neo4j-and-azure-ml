{
 "cells": [
  {
   "cell_type": "markdown",
   "metadata": {
    "id": "JtcD7PrPzSqE"
   },
   "source": [
    "# Cypher\n",
    "In this notebook we're going to connect to Neo4j.  We'll then run a few Cypher queries using the Neo4j Graph Database Python driver.\n",
    "\n",
    "First off, you'll also need to install a few packages."
   ]
  },
  {
   "cell_type": "code",
   "execution_count": 2,
   "metadata": {
    "colab": {
     "base_uri": "https://localhost:8080/"
    },
    "id": "qwKogqD_He_e",
    "outputId": "3c216a45-7f6b-461b-ba75-fa5b9fef43e4"
   },
   "outputs": [
    {
     "name": "stdout",
     "output_type": "stream",
     "text": [
      "Requirement already satisfied: neo4j in /anaconda/envs/azureml_py38/lib/python3.8/site-packages (5.1.0)\n",
      "Requirement already satisfied: pytz in /anaconda/envs/azureml_py38/lib/python3.8/site-packages (from neo4j) (2019.3)\n",
      "Note: you may need to restart the kernel to use updated packages.\n"
     ]
    }
   ],
   "source": [
    "%pip install neo4j"
   ]
  },
  {
   "cell_type": "markdown",
   "metadata": {
    "id": "IdMFRbqGzSqF"
   },
   "source": [
    "You'll need to enter the credentials from your Neo4j instance below.  You can get these from the Neo4j Browser by running the command \":server connect\"\n",
    "\n",
    "The default DB_USER and DB_NAME are always neo4j."
   ]
  },
  {
   "cell_type": "code",
   "execution_count": 3,
   "metadata": {
    "id": "P41l_P4zzSqF"
   },
   "outputs": [],
   "source": [
    "# Edit these variables!\n",
    "DB_URL = 'neo4j://vm0.node-abcd.southeastasia.cloudapp.azure.com:7687'\n",
    "DB_PASS = 'mypassword'\n",
    "\n",
    "# You can leave these defaults\n",
    "DB_USER = \"neo4j\"\n",
    "DB_NAME = \"neo4j\""
   ]
  },
  {
   "cell_type": "code",
   "execution_count": 4,
   "metadata": {
    "id": "8lUkSvmozSqF"
   },
   "outputs": [],
   "source": [
    "import pandas as pd\n",
    "from neo4j import GraphDatabase\n",
    "\n",
    "driver = GraphDatabase.driver(DB_URL, auth=(DB_USER, DB_PASS))"
   ]
  },
  {
   "cell_type": "markdown",
   "metadata": {
    "id": "XBcjHEc36H2h"
   },
   "source": [
    "Now that we're connected to the database, let's try running a few queries.  Earlier in the labs, we ran a query on the S&P 500 ETF, SPY.  Let's try it again on our new, indexed data set."
   ]
  },
  {
   "cell_type": "code",
   "execution_count": 7,
   "metadata": {
    "colab": {
     "base_uri": "https://localhost:8080/",
     "height": 81
    },
    "id": "x0rllvhU6U5C",
    "outputId": "199aaccf-e046-4add-c0c0-2d46cb2749de"
   },
   "outputs": [
    {
     "data": {
      "text/html": [
       "<div>\n",
       "<style scoped>\n",
       "    .dataframe tbody tr th:only-of-type {\n",
       "        vertical-align: middle;\n",
       "    }\n",
       "\n",
       "    .dataframe tbody tr th {\n",
       "        vertical-align: top;\n",
       "    }\n",
       "\n",
       "    .dataframe thead th {\n",
       "        text-align: right;\n",
       "    }\n",
       "</style>\n",
       "<table border=\"1\" class=\"dataframe\">\n",
       "  <thead>\n",
       "    <tr style=\"text-align: right;\">\n",
       "      <th></th>\n",
       "      <th>n</th>\n",
       "    </tr>\n",
       "  </thead>\n",
       "  <tbody>\n",
       "    <tr>\n",
       "      <th>0</th>\n",
       "      <td>{'cusip': '78462F103', 'nameOfIssuer': 'SPDR S...</td>\n",
       "    </tr>\n",
       "  </tbody>\n",
       "</table>\n",
       "</div>"
      ],
      "text/plain": [
       "                                                   n\n",
       "0  {'cusip': '78462F103', 'nameOfIssuer': 'SPDR S..."
      ]
     },
     "metadata": {},
     "output_type": "display_data"
    }
   ],
   "source": [
    "with driver.session(database=DB_NAME) as session:\n",
    "  result = session.execute_read(\n",
    "    lambda tx: tx.run(\n",
    "      \"\"\"\n",
    "        MATCH (n:Company{cusip:\"78462F103\"}) RETURN n\n",
    "      \"\"\"\n",
    "    ).data()\n",
    "  )\n",
    "df = pd.DataFrame(result)\n",
    "display(df)"
   ]
  },
  {
   "cell_type": "markdown",
   "metadata": {
    "id": "wSAM6TMF6nhF"
   },
   "source": [
    "One result!  Looks like our indexing worked.  We can try other cypher queries as well.  But, let's try something new.\n",
    "\n",
    "Neo4j has a set of procedures which are analogous to stored procedures in the RDBMS world.  Those are called Awesome Procedures on Cypher (APOC).\n",
    "\n",
    "Let's trying running Cypher through the APOC interface."
   ]
  },
  {
   "cell_type": "code",
   "execution_count": 8,
   "metadata": {
    "colab": {
     "base_uri": "https://localhost:8080/",
     "height": 143
    },
    "id": "1xW_V4Hvo5T0",
    "outputId": "5e475077-bbb5-4a8a-bd00-4ab63e92d1d8"
   },
   "outputs": [
    {
     "data": {
      "text/html": [
       "<div>\n",
       "<style scoped>\n",
       "    .dataframe tbody tr th:only-of-type {\n",
       "        vertical-align: middle;\n",
       "    }\n",
       "\n",
       "    .dataframe tbody tr th {\n",
       "        vertical-align: top;\n",
       "    }\n",
       "\n",
       "    .dataframe thead th {\n",
       "        text-align: right;\n",
       "    }\n",
       "</style>\n",
       "<table border=\"1\" class=\"dataframe\">\n",
       "  <thead>\n",
       "    <tr style=\"text-align: right;\">\n",
       "      <th></th>\n",
       "      <th>label</th>\n",
       "      <th>freq</th>\n",
       "    </tr>\n",
       "  </thead>\n",
       "  <tbody>\n",
       "    <tr>\n",
       "      <th>0</th>\n",
       "      <td>Company</td>\n",
       "      <td>7342</td>\n",
       "    </tr>\n",
       "    <tr>\n",
       "      <th>1</th>\n",
       "      <td>Manager</td>\n",
       "      <td>3906</td>\n",
       "    </tr>\n",
       "    <tr>\n",
       "      <th>2</th>\n",
       "      <td>Holding</td>\n",
       "      <td>446922</td>\n",
       "    </tr>\n",
       "    <tr>\n",
       "      <th>3</th>\n",
       "      <td>_Bloom_Perspective_</td>\n",
       "      <td>1</td>\n",
       "    </tr>\n",
       "    <tr>\n",
       "      <th>4</th>\n",
       "      <td>_Bloom_Scene_</td>\n",
       "      <td>1</td>\n",
       "    </tr>\n",
       "  </tbody>\n",
       "</table>\n",
       "</div>"
      ],
      "text/plain": [
       "                 label    freq\n",
       "0              Company    7342\n",
       "1              Manager    3906\n",
       "2              Holding  446922\n",
       "3  _Bloom_Perspective_       1\n",
       "4        _Bloom_Scene_       1"
      ]
     },
     "metadata": {},
     "output_type": "display_data"
    }
   ],
   "source": [
    "# node labels\n",
    "with driver.session(database=DB_NAME) as session:\n",
    "  result = session.execute_read(\n",
    "    lambda tx: tx.run(\n",
    "      \"\"\"\n",
    "        CALL db.labels() YIELD label\n",
    "        CALL apoc.cypher.run('MATCH (:`'+label+'`) RETURN count(*) as freq', {})\n",
    "        YIELD value\n",
    "        RETURN label, value.freq AS freq\n",
    "      \"\"\"\n",
    "    ).data()\n",
    "  )\n",
    "df = pd.DataFrame(result)\n",
    "display(df)"
   ]
  },
  {
   "cell_type": "markdown",
   "metadata": {
    "id": "9-WtW2gc7dri"
   },
   "source": [
    "Note that this yieled us a usable dataframe rather than the embedded JSON blob we got by calling the raw cypher."
   ]
  },
  {
   "cell_type": "code",
   "execution_count": 9,
   "metadata": {
    "colab": {
     "base_uri": "https://localhost:8080/",
     "height": 112
    },
    "id": "u-_izMZho6VM",
    "outputId": "865664f8-71a5-4ee1-fb5b-bd73423bab4b"
   },
   "outputs": [
    {
     "data": {
      "text/html": [
       "<div>\n",
       "<style scoped>\n",
       "    .dataframe tbody tr th:only-of-type {\n",
       "        vertical-align: middle;\n",
       "    }\n",
       "\n",
       "    .dataframe tbody tr th {\n",
       "        vertical-align: top;\n",
       "    }\n",
       "\n",
       "    .dataframe thead th {\n",
       "        text-align: right;\n",
       "    }\n",
       "</style>\n",
       "<table border=\"1\" class=\"dataframe\">\n",
       "  <thead>\n",
       "    <tr style=\"text-align: right;\">\n",
       "      <th></th>\n",
       "      <th>relationshipType</th>\n",
       "      <th>freq</th>\n",
       "    </tr>\n",
       "  </thead>\n",
       "  <tbody>\n",
       "    <tr>\n",
       "      <th>0</th>\n",
       "      <td>OWNS</td>\n",
       "      <td>446922</td>\n",
       "    </tr>\n",
       "    <tr>\n",
       "      <th>1</th>\n",
       "      <td>PARTOF</td>\n",
       "      <td>446922</td>\n",
       "    </tr>\n",
       "    <tr>\n",
       "      <th>2</th>\n",
       "      <td>_Bloom_HAS_SCENE_</td>\n",
       "      <td>1</td>\n",
       "    </tr>\n",
       "  </tbody>\n",
       "</table>\n",
       "</div>"
      ],
      "text/plain": [
       "    relationshipType    freq\n",
       "0               OWNS  446922\n",
       "1             PARTOF  446922\n",
       "2  _Bloom_HAS_SCENE_       1"
      ]
     },
     "metadata": {},
     "output_type": "display_data"
    }
   ],
   "source": [
    "# relationship types\n",
    "with driver.session(database=DB_NAME) as session:\n",
    "    result = session.execute_read(\n",
    "        lambda tx: tx.run(\n",
    "            \"\"\"\n",
    "                CALL db.relationshipTypes() YIELD relationshipType as type\n",
    "                CALL apoc.cypher.run('MATCH ()-[:`'+type+'`]->() RETURN count(*) as freq', {})\n",
    "                YIELD value\n",
    "                RETURN type AS relationshipType, value.freq AS freq\n",
    "                ORDER by freq DESC\n",
    "            \"\"\"\n",
    "        ).data()\n",
    "    )\n",
    "df = pd.DataFrame(result)\n",
    "display(df)"
   ]
  },
  {
   "cell_type": "markdown",
   "metadata": {
    "id": "-wmA0aWG5Xhj"
   },
   "source": [
    "If you like, you can try creating your own queries as well."
   ]
  }
 ],
 "metadata": {
  "colab": {
   "name": "exploring_cypher.ipynb",
   "provenance": [],
   "toc_visible": true
  },
  "kernel_info": {
   "name": "python3"
  },
  "kernelspec": {
   "display_name": "Python 3 (ipykernel)",
   "language": "python",
   "name": "python3"
  },
  "language_info": {
   "codemirror_mode": {
    "name": "ipython",
    "version": 3
   },
   "file_extension": ".py",
   "mimetype": "text/x-python",
   "name": "python",
   "nbconvert_exporter": "python",
   "pygments_lexer": "ipython3",
   "version": "3.9.6"
  },
  "nteract": {
   "version": "nteract-front-end@1.0.0"
  },
  "vscode": {
   "interpreter": {
    "hash": "31f2aee4e71d21fbe5cf8b01ff0e069b9275f58929596ceb00d14d90e3e16cd6"
   }
  }
 },
 "nbformat": 4,
 "nbformat_minor": 4
}
